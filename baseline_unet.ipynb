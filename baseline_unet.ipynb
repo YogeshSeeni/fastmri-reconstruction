{
 "cells": [
  {
   "cell_type": "markdown",
   "id": "edac8beb-ea93-4896-bf41-1d5bfcc7c9d6",
   "metadata": {},
   "source": [
    "# Environment Setup"
   ]
  },
  {
   "cell_type": "code",
   "execution_count": 26,
   "id": "27fd4c7d-af89-4158-bf8f-976274fac671",
   "metadata": {},
   "outputs": [
    {
     "name": "stdout",
     "output_type": "stream",
     "text": [
      "Using device: cuda\n"
     ]
    }
   ],
   "source": [
    "import os\n",
    "import numpy as np\n",
    "import random\n",
    "import h5py\n",
    "import torch\n",
    "import torch.nn as nn\n",
    "import torch.nn.functional as F\n",
    "from torch.utils.data import Dataset, DataLoader\n",
    "import matplotlib.pyplot as plt\n",
    "from tqdm.notebook import tqdm\n",
    "import time\n",
    "from pathlib import Path\n",
    "from skimage.metrics import structural_similarity as ssim\n",
    "from fastmri.data import transforms as T\n",
    "from fastmri.data.subsample import RandomMaskFunc\n",
    "\n",
    "# Set random seeds for reproducibility\n",
    "seed = 42\n",
    "torch.manual_seed(seed)\n",
    "np.random.seed(seed)\n",
    "random.seed(seed)\n",
    "if torch.cuda.is_available():\n",
    "    torch.cuda.manual_seed(seed)\n",
    "    torch.backends.cudnn.deterministic = True\n",
    "\n",
    "# Check device\n",
    "device = torch.device(\"cuda\" if torch.cuda.is_available() else \"cpu\")\n",
    "print(f\"Using device: {device}\")\n"
   ]
  },
  {
   "cell_type": "markdown",
   "id": "45df897c-b88a-4ee2-a717-e8a03e7a6836",
   "metadata": {},
   "source": [
    "# Dataset Class Definition"
   ]
  },
  {
   "cell_type": "code",
   "execution_count": 27,
   "id": "6c02a230-afef-4430-809c-aa389496a648",
   "metadata": {},
   "outputs": [],
   "source": [
    "class ProcessedFastMRIDataset(Dataset):\n",
    "    \"\"\"Dataset for loading preprocessed FastMRI data or creating from raw files\"\"\"\n",
    "    \n",
    "    def __init__(self, data_dir=None, file_list=None, mode='train', mask_func=None, use_processed=True):\n",
    "        self.mode = mode\n",
    "        self.use_processed = use_processed\n",
    "        \n",
    "        if use_processed:\n",
    "            self.data_dir = os.path.join(data_dir, mode)\n",
    "            try:\n",
    "                all_files_in_dir = os.listdir(self.data_dir)\n",
    "            except FileNotFoundError:\n",
    "                raise FileNotFoundError(f\"Data directory not found: {self.data_dir}\")\n",
    "\n",
    "            # Initial list of all .pt files\n",
    "            all_pt_files = sorted([os.path.join(self.data_dir, f) for f in all_files_in_dir if f.endswith('.pt')])\n",
    "\n",
    "            # Filter out files with \"metadata\" in their name\n",
    "            self.batch_files = []\n",
    "            for f_path_str in all_pt_files:\n",
    "                if \"metadata\" not in Path(f_path_str).name:\n",
    "                    self.batch_files.append(f_path_str)\n",
    "                else:\n",
    "                    print(f\"Filtering out metadata file: {f_path_str}\")\n",
    "            \n",
    "            if not self.batch_files:\n",
    "                raise FileNotFoundError(f\"No valid .pt files (after filtering 'metadata' files) found in {self.data_dir}\")\n",
    "                \n",
    "            self.examples = []\n",
    "            print(f\"Found {len(self.batch_files)} .pt files to process in {self.data_dir} after filtering.\")\n",
    "            \n",
    "            for i, batch_file_path in enumerate(self.batch_files):\n",
    "                print(f\"Processing file: {batch_file_path}\")\n",
    "                try:\n",
    "                    batch = torch.load(batch_file_path, map_location='cpu') # Load on CPU\n",
    "\n",
    "                    if not isinstance(batch, dict):\n",
    "                        print(f\"  Warning: Skipped {batch_file_path}. Loaded object is not a dictionary (type: {type(batch)}).\")\n",
    "                        continue\n",
    "\n",
    "                    if 'inputs' not in batch:\n",
    "                        print(f\"  Warning: Skipped {batch_file_path}. Missing 'inputs' key. Keys present: {list(batch.keys())}.\")\n",
    "                        continue\n",
    "                    \n",
    "                    if 'targets' not in batch: # It's good practice to check for targets too\n",
    "                        print(f\"  Warning: Skipped {batch_file_path}. Missing 'targets' key. Keys present: {list(batch.keys())}.\")\n",
    "                        continue\n",
    "                        \n",
    "                    num_samples = len(batch['inputs'])\n",
    "                    self.examples.extend([(i, j) for j in range(num_samples)])\n",
    "                    # print(f\"  Successfully loaded {num_samples} samples from {batch_file_path}.\")\n",
    "\n",
    "                except Exception as e:\n",
    "                    print(f\"  Error loading or processing file {batch_file_path}: {e}. Skipping.\")\n",
    "            \n",
    "            if not self.examples:\n",
    "                raise ValueError(f\"No valid examples could be loaded from {self.data_dir}. Check warnings above.\")\n",
    "            \n",
    "            print(f\"Successfully loaded a total of {len(self.examples)} examples.\")\n",
    "\n",
    "        else:\n",
    "            # This part is for use_processed=False, ensure it's complete from your original code\n",
    "            self.file_list = file_list\n",
    "            self.mask_func = mask_func\n",
    "            self.examples = []\n",
    "            if not self.file_list:\n",
    "                 raise ValueError(\"File list is empty when use_processed is False.\")\n",
    "            \n",
    "            print(f\"Processing {len(self.file_list)} raw files...\")\n",
    "            for fpath_obj in self.file_list: # Assuming file_list contains Path objects or strings\n",
    "                fpath = str(fpath_obj) # Ensure it's a string for h5py\n",
    "                try:\n",
    "                    with h5py.File(fpath, 'r') as hf:\n",
    "                        kspace = hf['kspace']\n",
    "                        middle_slice = kspace.shape[0] // 2\n",
    "                        self.examples.append((fpath, middle_slice))\n",
    "                except Exception as e:\n",
    "                    print(f\"Error processing raw file {fpath}: {e}\")\n",
    "            \n",
    "            if not self.examples:\n",
    "                raise ValueError(\"No examples could be prepared from raw files.\")\n",
    "    \n",
    "    def __len__(self):\n",
    "        return len(self.examples)\n",
    "    \n",
    "    def __getitem__(self, idx):\n",
    "        if self.use_processed:\n",
    "            batch_idx, sample_idx = self.examples[idx]\n",
    "            batch_data = torch.load(self.batch_files[batch_idx], map_location='cpu')\n",
    "            inputs = batch_data['inputs'][sample_idx]\n",
    "            targets = batch_data['targets'][sample_idx]\n",
    "        else:\n",
    "            # This part is for use_processed=False, ensure it's complete from your original code\n",
    "            fpath, slice_idx = self.examples[idx]\n",
    "            \n",
    "            with h5py.File(fpath, 'r') as hf:\n",
    "                kspace = hf['kspace'][slice_idx]\n",
    "                target_rss = hf['reconstruction_rss'][slice_idx] if 'reconstruction_rss' in hf else None\n",
    "                \n",
    "                kspace_tensor = T.to_tensor(kspace)\n",
    "                # Fallback for max_value if not in attrs, ensure this value is appropriate\n",
    "                max_value = hf.attrs.get('max', 0.00085) \n",
    "                \n",
    "                if self.mask_func:\n",
    "                    masked_kspace, mask, _ = T.apply_mask(kspace_tensor, self.mask_func)\n",
    "                else:\n",
    "                    masked_kspace = kspace_tensor\n",
    "                    \n",
    "                image = T.ifft2c(masked_kspace)\n",
    "                image_abs = T.complex_abs(image)\n",
    "                image_normalized = image_abs / max_value\n",
    "                \n",
    "                if target_rss is not None:\n",
    "                    target_tensor = T.to_tensor(target_rss)\n",
    "                    target_normalized = target_tensor / max_value\n",
    "                else:\n",
    "                    # Handle cases where target might be missing, perhaps raise error or return placeholder\n",
    "                    # For now, let's assume target_rss is always present or this case is handled\n",
    "                    raise ValueError(f\"Target 'reconstruction_rss' not found in {fpath}\")\n",
    "\n",
    "                crop_shape = (320, 320) # Assuming T is fastmri.data.transforms\n",
    "                inputs = T.center_crop(image_normalized, crop_shape)\n",
    "                targets = T.center_crop(target_normalized, crop_shape)\n",
    "        \n",
    "        # Ensure inputs and targets are 2D tensors [height, width]\n",
    "        # The model expects [batch_size, channels, height, width]\n",
    "        # DataLoader will batch them. The model adds channel dim if input is 3D [B, H, W].\n",
    "        # Here, __getitem__ should return single sample, typically [H,W] or [C,H,W]\n",
    "        # If your model needs a channel dim here, .unsqueeze(0) might be needed for inputs/targets\n",
    "        return inputs, targets\n"
   ]
  },
  {
   "cell_type": "markdown",
   "id": "5b9f2ce5-791b-4f15-b9d6-dda309c39792",
   "metadata": {},
   "source": [
    "# UNet Model Definition"
   ]
  },
  {
   "cell_type": "code",
   "execution_count": 28,
   "id": "f7b87727-2c3b-4928-affd-3cf3e3615852",
   "metadata": {},
   "outputs": [],
   "source": [
    "class ConvBlock(nn.Module):\n",
    "    \"\"\"\n",
    "    A Convolutional Block that consists of two convolution layers each followed by\n",
    "    instance normalization, LeakyReLU activation and dropout.\n",
    "    \"\"\"\n",
    "    def __init__(self, in_chans, out_chans, drop_prob=0.0):\n",
    "        \"\"\"\n",
    "        Args:\n",
    "            in_chans (int): Number of channels in the input.\n",
    "            out_chans (int): Number of channels in the output.\n",
    "            drop_prob (float): Dropout probability.\n",
    "        \"\"\"\n",
    "        super().__init__()\n",
    "\n",
    "        self.in_chans = in_chans\n",
    "        self.out_chans = out_chans\n",
    "        self.drop_prob = drop_prob\n",
    "\n",
    "        self.layers = nn.Sequential(\n",
    "            nn.Conv2d(in_chans, out_chans, kernel_size=3, padding=1, bias=False),\n",
    "            nn.InstanceNorm2d(out_chans),\n",
    "            nn.LeakyReLU(negative_slope=0.2, inplace=True),\n",
    "            nn.Dropout2d(drop_prob),\n",
    "            nn.Conv2d(out_chans, out_chans, kernel_size=3, padding=1, bias=False),\n",
    "            nn.InstanceNorm2d(out_chans),\n",
    "            nn.LeakyReLU(negative_slope=0.2, inplace=True),\n",
    "            nn.Dropout2d(drop_prob)\n",
    "        )\n",
    "\n",
    "    def forward(self, x):\n",
    "        return self.layers(x)\n",
    "\n",
    "\n",
    "class UNet(nn.Module):\n",
    "    \"\"\"\n",
    "    PyTorch implementation of a U-Net model for MRI reconstruction.\n",
    "    This is the standard U-Net architecture used as a baseline for fastMRI.\n",
    "    \"\"\"\n",
    "    def __init__(self, in_chans=1, out_chans=1, chans=32, num_pool_layers=4, drop_prob=0.0):\n",
    "        \"\"\"\n",
    "        Args:\n",
    "            in_chans (int): Number of channels in the input to the U-Net model.\n",
    "            out_chans (int): Number of channels in the output to the U-Net model.\n",
    "            chans (int): Number of output channels of the first convolution layer.\n",
    "            num_pool_layers (int): Number of down-sampling and up-sampling layers.\n",
    "            drop_prob (float): Dropout probability.\n",
    "        \"\"\"\n",
    "        super().__init__()\n",
    "\n",
    "        self.in_chans = in_chans\n",
    "        self.out_chans = out_chans\n",
    "        self.chans = chans\n",
    "        self.num_pool_layers = num_pool_layers\n",
    "        self.drop_prob = drop_prob\n",
    "\n",
    "        # Downsampling path\n",
    "        self.down_sample_layers = nn.ModuleList([ConvBlock(in_chans, chans, drop_prob)])\n",
    "        ch = chans\n",
    "        for _ in range(num_pool_layers - 1):\n",
    "            self.down_sample_layers.append(ConvBlock(ch, ch * 2, drop_prob))\n",
    "            ch *= 2\n",
    "        \n",
    "        # Bottleneck\n",
    "        self.conv = ConvBlock(ch, ch * 2, drop_prob)\n",
    "        ch *= 2\n",
    "\n",
    "        # Upsampling path\n",
    "        self.up_conv = nn.ModuleList()\n",
    "        self.up_transpose_conv = nn.ModuleList()\n",
    "        for _ in range(num_pool_layers):\n",
    "            self.up_transpose_conv.append(nn.ConvTranspose2d(ch, ch // 2, kernel_size=2, stride=2))\n",
    "            self.up_conv.append(ConvBlock(ch, ch // 2, drop_prob))\n",
    "            ch //= 2\n",
    "\n",
    "        # Final output layer\n",
    "        self.conv2 = nn.Conv2d(ch, out_chans, kernel_size=1)\n",
    "\n",
    "    def forward(self, x):\n",
    "        \"\"\"\n",
    "        Args:\n",
    "            x: Input tensor of shape [batch_size, in_chans, height, width]\n",
    "        Returns:\n",
    "            Output tensor of shape [batch_size, out_chans, height, width]\n",
    "        \"\"\"\n",
    "        # Add channel dimension if not present\n",
    "        if len(x.shape) == 3:\n",
    "            x = x.unsqueeze(1)\n",
    "            \n",
    "        # Apply down-sampling layers\n",
    "        skip_connections = []\n",
    "        for i, layer in enumerate(self.down_sample_layers):\n",
    "            x = layer(x)\n",
    "            skip_connections.append(x)\n",
    "            x = F.max_pool2d(x, kernel_size=2, stride=2)\n",
    "\n",
    "        x = self.conv(x)\n",
    "\n",
    "        # Apply up-sampling layers\n",
    "        for i in range(self.num_pool_layers):\n",
    "            x = self.up_transpose_conv[i](x)\n",
    "            x = torch.cat([x, skip_connections[-(i + 1)]], dim=1)\n",
    "            x = self.up_conv[i](x)\n",
    "\n",
    "        return self.conv2(x)\n"
   ]
  },
  {
   "cell_type": "markdown",
   "id": "5e555976-bd62-42ad-ad61-965ea49a0e00",
   "metadata": {},
   "source": [
    "# Loss Functions and Metrics"
   ]
  },
  {
   "cell_type": "code",
   "execution_count": 29,
   "id": "a322f8ef-4391-48c4-a667-549c944de090",
   "metadata": {},
   "outputs": [],
   "source": [
    "class SSIMLoss(nn.Module):\n",
    "    \"\"\"SSIM loss module for MRI reconstruction\"\"\"\n",
    "    def __init__(self, win_size=7, k1=0.01, k2=0.03):\n",
    "        super().__init__()\n",
    "        self.win_size = win_size\n",
    "        self.k1, self.k2 = k1, k2\n",
    "        self.register_buffer('w', torch.ones(1, 1, win_size, win_size) / win_size**2)\n",
    "        self.cov_norm = win_size**2 / (win_size**2 - 1)\n",
    "    \n",
    "    def forward(self, x, y):\n",
    "        data_range = 1.0  # Images are normalized to [0,1]\n",
    "        C1 = (self.k1 * data_range)**2\n",
    "        C2 = (self.k2 * data_range)**2\n",
    "        \n",
    "        # Compute means\n",
    "        ux = F.conv2d(x, self.w)\n",
    "        uy = F.conv2d(y, self.w)\n",
    "        \n",
    "        # Compute variances and covariance\n",
    "        uxx = F.conv2d(x * x, self.w)\n",
    "        uyy = F.conv2d(y * y, self.w)\n",
    "        uxy = F.conv2d(x * y, self.w)\n",
    "        vx = self.cov_norm * (uxx - ux * ux)\n",
    "        vy = self.cov_norm * (uyy - uy * uy)\n",
    "        vxy = self.cov_norm * (uxy - ux * uy)\n",
    "        \n",
    "        A1 = 2 * ux * uy + C1\n",
    "        A2 = 2 * vxy + C2\n",
    "        B1 = ux**2 + uy**2 + C1\n",
    "        B2 = vx + vy + C2\n",
    "        \n",
    "        D = (A1 * A2) / (B1 * B2)\n",
    "        return 1 - D.mean()\n",
    "\n",
    "# Combined L1 and SSIM loss - common in MRI reconstruction\n",
    "class CombinedLoss(nn.Module):\n",
    "    def __init__(self, alpha=0.84):\n",
    "        super().__init__()\n",
    "        self.alpha = alpha\n",
    "        self.l1_loss = nn.L1Loss()\n",
    "        self.ssim_loss = SSIMLoss()\n",
    "        \n",
    "    def forward(self, pred, target):\n",
    "        l1 = self.l1_loss(pred, target)\n",
    "        ssim = self.ssim_loss(pred, target)\n",
    "        return self.alpha * l1 + (1 - self.alpha) * ssim\n",
    "\n",
    "# Calculate PSNR metric\n",
    "def calculate_psnr(img1, img2):\n",
    "    \"\"\"Calculate PSNR between two images\"\"\"\n",
    "    mse = torch.mean((img1 - img2) ** 2)\n",
    "    return 20 * torch.log10(1.0 / torch.sqrt(mse))\n",
    "\n",
    "# Calculate SSIM metric for numpy images\n",
    "def calculate_ssim(img1, img2):\n",
    "    \"\"\"Calculate SSIM between two numpy arrays\"\"\"\n",
    "    return ssim(img1, img2, data_range=img1.max())\n"
   ]
  },
  {
   "cell_type": "markdown",
   "id": "970aaa52-066f-4389-8f5b-77ab29410780",
   "metadata": {},
   "source": [
    "# Training and Validation Functions"
   ]
  },
  {
   "cell_type": "code",
   "execution_count": 30,
   "id": "61d56567-6437-4b17-9905-b30200301d97",
   "metadata": {},
   "outputs": [],
   "source": [
    "def train_epoch(model, dataloader, optimizer, criterion, device):\n",
    "    \"\"\"Train for one epoch\"\"\"\n",
    "    model.train()\n",
    "    running_loss = 0.0\n",
    "    \n",
    "    with tqdm(dataloader, desc=\"Training\") as pbar:\n",
    "        for inputs, targets in pbar:\n",
    "            # Move tensors to the right device\n",
    "            inputs = inputs.to(device)\n",
    "            targets = targets.to(device)\n",
    "            \n",
    "            # Add channel dimension if needed\n",
    "            if len(inputs.shape) == 3:\n",
    "                inputs = inputs.unsqueeze(1)\n",
    "            if len(targets.shape) == 3:\n",
    "                targets = targets.unsqueeze(1)\n",
    "                \n",
    "            # Forward pass\n",
    "            optimizer.zero_grad()\n",
    "            outputs = model(inputs)\n",
    "            loss = criterion(outputs, targets)\n",
    "            \n",
    "            # Backward and optimize\n",
    "            loss.backward()\n",
    "            optimizer.step()\n",
    "            \n",
    "            # Update statistics\n",
    "            running_loss += loss.item()\n",
    "            pbar.set_postfix({'loss': loss.item()})\n",
    "            \n",
    "    return running_loss / len(dataloader)\n",
    "\n",
    "def validate(model, dataloader, criterion, device):\n",
    "    \"\"\"Validate the model\"\"\"\n",
    "    model.eval()\n",
    "    running_loss = 0.0\n",
    "    running_psnr = 0.0\n",
    "    running_ssim = 0.0\n",
    "    \n",
    "    with torch.no_grad():\n",
    "        with tqdm(dataloader, desc=\"Validation\") as pbar:\n",
    "            for inputs, targets in pbar:\n",
    "                # Move tensors to the right device\n",
    "                inputs = inputs.to(device)\n",
    "                targets = targets.to(device)\n",
    "                \n",
    "                # Add channel dimension if needed\n",
    "                if len(inputs.shape) == 3:\n",
    "                    inputs = inputs.unsqueeze(1)\n",
    "                if len(targets.shape) == 3:\n",
    "                    targets = targets.unsqueeze(1)\n",
    "                \n",
    "                # Forward pass\n",
    "                outputs = model(inputs)\n",
    "                loss = criterion(outputs, targets)\n",
    "                \n",
    "                # Calculate metrics\n",
    "                psnr = calculate_psnr(outputs, targets)\n",
    "                \n",
    "                # Update statistics\n",
    "                running_loss += loss.item()\n",
    "                running_psnr += psnr.item()\n",
    "                \n",
    "                # Calculate SSIM on CPU for one batch (it's slower)\n",
    "                if running_ssim == 0:\n",
    "                    for i in range(min(4, outputs.size(0))):  # Calculate for first 4 images only\n",
    "                        output_np = outputs[i, 0].cpu().numpy()\n",
    "                        target_np = targets[i, 0].cpu().numpy()\n",
    "                        running_ssim += calculate_ssim(output_np, target_np)\n",
    "                    running_ssim /= min(4, outputs.size(0))\n",
    "                    \n",
    "                pbar.set_postfix({'val_loss': loss.item(), 'psnr': psnr.item()})\n",
    "                \n",
    "    return running_loss / len(dataloader), running_psnr / len(dataloader), running_ssim\n"
   ]
  },
  {
   "cell_type": "markdown",
   "id": "2a2860d0-36c7-40dc-b5ac-af7db63497af",
   "metadata": {},
   "source": [
    "# Visualization Functions"
   ]
  },
  {
   "cell_type": "code",
   "execution_count": 31,
   "id": "0dc59148-0b6a-4d0d-8ae1-604472c24a7d",
   "metadata": {},
   "outputs": [],
   "source": [
    "def visualize_results(model, dataloader, device, epoch, output_dir):\n",
    "    \"\"\"Visualize model predictions on a few samples\"\"\"\n",
    "    model.eval()\n",
    "    \n",
    "    # Get a batch of data\n",
    "    inputs, targets = next(iter(dataloader))\n",
    "    inputs = inputs.to(device)\n",
    "    targets = targets.to(device)\n",
    "    \n",
    "    # Make predictions\n",
    "    with torch.no_grad():\n",
    "        outputs = model(inputs.unsqueeze(1) if len(inputs.shape) == 3 else inputs)\n",
    "    \n",
    "    # Create figure\n",
    "    fig, axes = plt.subplots(4, 3, figsize=(15, 20))\n",
    "    fig.suptitle(f\"FastMRI Reconstruction - Epoch {epoch}\", fontsize=16)\n",
    "    \n",
    "    for i in range(4):  # Show 4 examples\n",
    "        # Get images\n",
    "        if i < inputs.size(0):\n",
    "            input_img = inputs[i].cpu().numpy()\n",
    "            output_img = outputs[i, 0].cpu().numpy()\n",
    "            target_img = targets[i].cpu().numpy()\n",
    "            \n",
    "            # Display input\n",
    "            axes[i, 0].imshow(input_img, cmap='gray')\n",
    "            axes[i, 0].set_title(f\"Input (Undersampled)\")\n",
    "            axes[i, 0].axis('off')\n",
    "            \n",
    "            # Display output\n",
    "            axes[i, 1].imshow(output_img, cmap='gray')\n",
    "            axes[i, 1].set_title(f\"Prediction\")\n",
    "            axes[i, 1].axis('off')\n",
    "            \n",
    "            # Display target\n",
    "            axes[i, 2].imshow(target_img, cmap='gray')\n",
    "            axes[i, 2].set_title(f\"Ground Truth\")\n",
    "            axes[i, 2].axis('off')\n",
    "            \n",
    "            # Calculate metrics\n",
    "            psnr = calculate_psnr(\n",
    "                torch.from_numpy(output_img), \n",
    "                torch.from_numpy(target_img)\n",
    "            ).item()\n",
    "            ssim_val = calculate_ssim(output_img, target_img)\n",
    "            \n",
    "            # Add metrics as text\n",
    "            axes[i, 1].text(\n",
    "                10, 20, \n",
    "                f'PSNR: {psnr:.2f} dB\\nSSIM: {ssim_val:.4f}',\n",
    "                color='white', fontsize=12, \n",
    "                bbox=dict(facecolor='black', alpha=0.5)\n",
    "            )\n",
    "    \n",
    "    plt.tight_layout()\n",
    "    plt.subplots_adjust(top=0.95)\n",
    "    \n",
    "    # Save figure\n",
    "    os.makedirs(output_dir, exist_ok=True)\n",
    "    plt.savefig(f\"{output_dir}/epoch_{epoch}.png\")\n",
    "    plt.close()\n",
    "    \n",
    "    return fig\n"
   ]
  },
  {
   "cell_type": "code",
   "execution_count": 32,
   "id": "2a1d3c5e-c863-4f09-ab48-16812e75c361",
   "metadata": {},
   "outputs": [],
   "source": [
    "from pathlib import Path # Ensure Path is imported in this cell or globally\n",
    "\n",
    "# ... (assuming _orig_init is correctly defined from the non-patched ProcessedFastMRIDataset.__init__)\n",
    "\n",
    "def _patched_init(self, *args, **kwargs):\n",
    "    _orig_init(self, *args, **kwargs)\n",
    "\n",
    "    good_examples = []\n",
    "    if hasattr(self, 'batch_files') and self.batch_files: # Check if batch_files exists and is not empty\n",
    "        for idx, slice_idx in self.examples:\n",
    "            # Ensure idx is a valid index for self.batch_files\n",
    "            if 0 <= idx < len(self.batch_files):\n",
    "                batch_file_string_path = self.batch_files[idx]\n",
    "                # Convert the string path to a Path object\n",
    "                path_obj = Path(batch_file_string_path)\n",
    "                if \"metadata\" not in path_obj.name:  # Now path_obj.name is correct\n",
    "                    good_examples.append((idx, slice_idx))\n",
    "            else:\n",
    "                print(f\"Warning in patch: Invalid index {idx} for batch_files of length {len(self.batch_files)}\")\n",
    "        self.examples = good_examples\n",
    "    elif not hasattr(self, 'batch_files') or not self.batch_files:\n",
    "        # This case might occur if _orig_init failed to populate self.batch_files\n",
    "        # or if use_processed was False (though the error trace suggests use_processed=True)\n",
    "        print(\"Warning in patch: self.batch_files not populated or empty, skipping example filtering.\")\n",
    "        # self.examples would remain as whatever _orig_init set it to, or cause error if not set.\n",
    "\n",
    "# ProcessedFastMRIDataset.__init__ = _patched_init # This line applies the patch\n",
    "# print(\"Patched ProcessedFastMRIDataset to ignore files that contain 'metadata'\")\n"
   ]
  },
  {
   "cell_type": "markdown",
   "id": "6d1c0a96-a1c2-43ba-88d4-2cb6a7747b63",
   "metadata": {},
   "source": [
    "# Main Training Script"
   ]
  },
  {
   "cell_type": "code",
   "execution_count": 33,
   "id": "1af12e4d-b7f6-47ed-8083-f393984e12e4",
   "metadata": {},
   "outputs": [
    {
     "name": "stdout",
     "output_type": "stream",
     "text": [
      "Filtering out metadata file: /workspace/fastmri-reconstruction/processed_fastmri_data/train/fastmri_train_4x_metadata.pt\n",
      "Found 61 .pt files to process in /workspace/fastmri-reconstruction/processed_fastmri_data/train after filtering.\n",
      "Processing file: /workspace/fastmri-reconstruction/processed_fastmri_data/train/fastmri_train_4x_batch_0000.pt\n",
      "Processing file: /workspace/fastmri-reconstruction/processed_fastmri_data/train/fastmri_train_4x_batch_0001.pt\n",
      "Processing file: /workspace/fastmri-reconstruction/processed_fastmri_data/train/fastmri_train_4x_batch_0002.pt\n",
      "Processing file: /workspace/fastmri-reconstruction/processed_fastmri_data/train/fastmri_train_4x_batch_0003.pt\n",
      "Processing file: /workspace/fastmri-reconstruction/processed_fastmri_data/train/fastmri_train_4x_batch_0004.pt\n",
      "Processing file: /workspace/fastmri-reconstruction/processed_fastmri_data/train/fastmri_train_4x_batch_0005.pt\n",
      "Processing file: /workspace/fastmri-reconstruction/processed_fastmri_data/train/fastmri_train_4x_batch_0006.pt\n",
      "Processing file: /workspace/fastmri-reconstruction/processed_fastmri_data/train/fastmri_train_4x_batch_0007.pt\n",
      "Processing file: /workspace/fastmri-reconstruction/processed_fastmri_data/train/fastmri_train_4x_batch_0008.pt\n",
      "Processing file: /workspace/fastmri-reconstruction/processed_fastmri_data/train/fastmri_train_4x_batch_0009.pt\n",
      "Processing file: /workspace/fastmri-reconstruction/processed_fastmri_data/train/fastmri_train_4x_batch_0010.pt\n",
      "Processing file: /workspace/fastmri-reconstruction/processed_fastmri_data/train/fastmri_train_4x_batch_0011.pt\n",
      "Processing file: /workspace/fastmri-reconstruction/processed_fastmri_data/train/fastmri_train_4x_batch_0012.pt\n",
      "Processing file: /workspace/fastmri-reconstruction/processed_fastmri_data/train/fastmri_train_4x_batch_0013.pt\n",
      "Processing file: /workspace/fastmri-reconstruction/processed_fastmri_data/train/fastmri_train_4x_batch_0014.pt\n",
      "Processing file: /workspace/fastmri-reconstruction/processed_fastmri_data/train/fastmri_train_4x_batch_0015.pt\n",
      "Processing file: /workspace/fastmri-reconstruction/processed_fastmri_data/train/fastmri_train_4x_batch_0016.pt\n",
      "Processing file: /workspace/fastmri-reconstruction/processed_fastmri_data/train/fastmri_train_4x_batch_0017.pt\n",
      "Processing file: /workspace/fastmri-reconstruction/processed_fastmri_data/train/fastmri_train_4x_batch_0018.pt\n",
      "Processing file: /workspace/fastmri-reconstruction/processed_fastmri_data/train/fastmri_train_4x_batch_0019.pt\n",
      "Processing file: /workspace/fastmri-reconstruction/processed_fastmri_data/train/fastmri_train_4x_batch_0020.pt\n",
      "Processing file: /workspace/fastmri-reconstruction/processed_fastmri_data/train/fastmri_train_4x_batch_0021.pt\n",
      "Processing file: /workspace/fastmri-reconstruction/processed_fastmri_data/train/fastmri_train_4x_batch_0022.pt\n",
      "Processing file: /workspace/fastmri-reconstruction/processed_fastmri_data/train/fastmri_train_4x_batch_0023.pt\n",
      "Processing file: /workspace/fastmri-reconstruction/processed_fastmri_data/train/fastmri_train_4x_batch_0024.pt\n",
      "Processing file: /workspace/fastmri-reconstruction/processed_fastmri_data/train/fastmri_train_4x_batch_0025.pt\n",
      "Processing file: /workspace/fastmri-reconstruction/processed_fastmri_data/train/fastmri_train_4x_batch_0026.pt\n",
      "Processing file: /workspace/fastmri-reconstruction/processed_fastmri_data/train/fastmri_train_4x_batch_0027.pt\n",
      "Processing file: /workspace/fastmri-reconstruction/processed_fastmri_data/train/fastmri_train_4x_batch_0028.pt\n",
      "Processing file: /workspace/fastmri-reconstruction/processed_fastmri_data/train/fastmri_train_4x_batch_0029.pt\n",
      "Processing file: /workspace/fastmri-reconstruction/processed_fastmri_data/train/fastmri_train_4x_batch_0030.pt\n",
      "Processing file: /workspace/fastmri-reconstruction/processed_fastmri_data/train/fastmri_train_4x_batch_0031.pt\n",
      "Processing file: /workspace/fastmri-reconstruction/processed_fastmri_data/train/fastmri_train_4x_batch_0032.pt\n",
      "Processing file: /workspace/fastmri-reconstruction/processed_fastmri_data/train/fastmri_train_4x_batch_0033.pt\n",
      "Processing file: /workspace/fastmri-reconstruction/processed_fastmri_data/train/fastmri_train_4x_batch_0034.pt\n",
      "Processing file: /workspace/fastmri-reconstruction/processed_fastmri_data/train/fastmri_train_4x_batch_0035.pt\n",
      "Processing file: /workspace/fastmri-reconstruction/processed_fastmri_data/train/fastmri_train_4x_batch_0036.pt\n",
      "Processing file: /workspace/fastmri-reconstruction/processed_fastmri_data/train/fastmri_train_4x_batch_0037.pt\n",
      "Processing file: /workspace/fastmri-reconstruction/processed_fastmri_data/train/fastmri_train_4x_batch_0038.pt\n",
      "Processing file: /workspace/fastmri-reconstruction/processed_fastmri_data/train/fastmri_train_4x_batch_0039.pt\n",
      "Processing file: /workspace/fastmri-reconstruction/processed_fastmri_data/train/fastmri_train_4x_batch_0040.pt\n",
      "Processing file: /workspace/fastmri-reconstruction/processed_fastmri_data/train/fastmri_train_4x_batch_0041.pt\n",
      "Processing file: /workspace/fastmri-reconstruction/processed_fastmri_data/train/fastmri_train_4x_batch_0042.pt\n",
      "Processing file: /workspace/fastmri-reconstruction/processed_fastmri_data/train/fastmri_train_4x_batch_0043.pt\n",
      "Processing file: /workspace/fastmri-reconstruction/processed_fastmri_data/train/fastmri_train_4x_batch_0044.pt\n",
      "Processing file: /workspace/fastmri-reconstruction/processed_fastmri_data/train/fastmri_train_4x_batch_0045.pt\n",
      "Processing file: /workspace/fastmri-reconstruction/processed_fastmri_data/train/fastmri_train_4x_batch_0046.pt\n",
      "Processing file: /workspace/fastmri-reconstruction/processed_fastmri_data/train/fastmri_train_4x_batch_0047.pt\n",
      "Processing file: /workspace/fastmri-reconstruction/processed_fastmri_data/train/fastmri_train_4x_batch_0048.pt\n",
      "Processing file: /workspace/fastmri-reconstruction/processed_fastmri_data/train/fastmri_train_4x_batch_0049.pt\n",
      "Processing file: /workspace/fastmri-reconstruction/processed_fastmri_data/train/fastmri_train_4x_batch_0050.pt\n",
      "Processing file: /workspace/fastmri-reconstruction/processed_fastmri_data/train/fastmri_train_4x_batch_0051.pt\n",
      "Processing file: /workspace/fastmri-reconstruction/processed_fastmri_data/train/fastmri_train_4x_batch_0052.pt\n",
      "Processing file: /workspace/fastmri-reconstruction/processed_fastmri_data/train/fastmri_train_4x_batch_0053.pt\n",
      "Processing file: /workspace/fastmri-reconstruction/processed_fastmri_data/train/fastmri_train_4x_batch_0054.pt\n",
      "Processing file: /workspace/fastmri-reconstruction/processed_fastmri_data/train/fastmri_train_4x_batch_0055.pt\n",
      "Processing file: /workspace/fastmri-reconstruction/processed_fastmri_data/train/fastmri_train_4x_batch_0056.pt\n",
      "Processing file: /workspace/fastmri-reconstruction/processed_fastmri_data/train/fastmri_train_4x_batch_0057.pt\n",
      "Processing file: /workspace/fastmri-reconstruction/processed_fastmri_data/train/fastmri_train_4x_batch_0058.pt\n",
      "Processing file: /workspace/fastmri-reconstruction/processed_fastmri_data/train/fastmri_train_4x_batch_0059.pt\n",
      "Processing file: /workspace/fastmri-reconstruction/processed_fastmri_data/train/fastmri_train_4x_batch_0060.pt\n",
      "Successfully loaded a total of 973 examples.\n",
      "Filtering out metadata file: /workspace/fastmri-reconstruction/processed_fastmri_data/val/fastmri_val_4x_metadata.pt\n",
      "Found 13 .pt files to process in /workspace/fastmri-reconstruction/processed_fastmri_data/val after filtering.\n",
      "Processing file: /workspace/fastmri-reconstruction/processed_fastmri_data/val/fastmri_val_4x_batch_0000.pt\n",
      "Processing file: /workspace/fastmri-reconstruction/processed_fastmri_data/val/fastmri_val_4x_batch_0001.pt\n",
      "Processing file: /workspace/fastmri-reconstruction/processed_fastmri_data/val/fastmri_val_4x_batch_0002.pt\n",
      "Processing file: /workspace/fastmri-reconstruction/processed_fastmri_data/val/fastmri_val_4x_batch_0003.pt\n",
      "Processing file: /workspace/fastmri-reconstruction/processed_fastmri_data/val/fastmri_val_4x_batch_0004.pt\n",
      "Processing file: /workspace/fastmri-reconstruction/processed_fastmri_data/val/fastmri_val_4x_batch_0005.pt\n",
      "Processing file: /workspace/fastmri-reconstruction/processed_fastmri_data/val/fastmri_val_4x_batch_0006.pt\n",
      "Processing file: /workspace/fastmri-reconstruction/processed_fastmri_data/val/fastmri_val_4x_batch_0007.pt\n",
      "Processing file: /workspace/fastmri-reconstruction/processed_fastmri_data/val/fastmri_val_4x_batch_0008.pt\n",
      "Processing file: /workspace/fastmri-reconstruction/processed_fastmri_data/val/fastmri_val_4x_batch_0009.pt\n",
      "Processing file: /workspace/fastmri-reconstruction/processed_fastmri_data/val/fastmri_val_4x_batch_0010.pt\n",
      "Processing file: /workspace/fastmri-reconstruction/processed_fastmri_data/val/fastmri_val_4x_batch_0011.pt\n",
      "Processing file: /workspace/fastmri-reconstruction/processed_fastmri_data/val/fastmri_val_4x_batch_0012.pt\n",
      "Successfully loaded a total of 199 examples.\n",
      "Loaded 973 training samples and 199 validation samples\n",
      "Model parameters: 7756577\n",
      "Starting training...\n",
      "\n",
      "Epoch 1/50\n"
     ]
    },
    {
     "data": {
      "application/vnd.jupyter.widget-view+json": {
       "model_id": "edeccf65b04e44a0b2793e12e80d963b",
       "version_major": 2,
       "version_minor": 0
      },
      "text/plain": [
       "Training:   0%|          | 0/61 [00:00<?, ?it/s]"
      ]
     },
     "metadata": {},
     "output_type": "display_data"
    },
    {
     "data": {
      "application/vnd.jupyter.widget-view+json": {
       "model_id": "75e0949a245b480882a214253434f7cd",
       "version_major": 2,
       "version_minor": 0
      },
      "text/plain": [
       "Validation:   0%|          | 0/13 [00:00<?, ?it/s]"
      ]
     },
     "metadata": {},
     "output_type": "display_data"
    },
    {
     "name": "stdout",
     "output_type": "stream",
     "text": [
      "Train Loss: 0.207893 | Val Loss: 0.105392 | PSNR: 23.30 dB | SSIM: 0.5866\n",
      "Saved best model at epoch 1\n",
      "\n",
      "Epoch 2/50\n"
     ]
    },
    {
     "data": {
      "application/vnd.jupyter.widget-view+json": {
       "model_id": "3d2cd72267224bda9598250e119dbed5",
       "version_major": 2,
       "version_minor": 0
      },
      "text/plain": [
       "Training:   0%|          | 0/61 [00:00<?, ?it/s]"
      ]
     },
     "metadata": {},
     "output_type": "display_data"
    },
    {
     "data": {
      "application/vnd.jupyter.widget-view+json": {
       "model_id": "a4dd5cfae9aa4dc6bc588e2c27858cf5",
       "version_major": 2,
       "version_minor": 0
      },
      "text/plain": [
       "Validation:   0%|          | 0/13 [00:00<?, ?it/s]"
      ]
     },
     "metadata": {},
     "output_type": "display_data"
    },
    {
     "name": "stdout",
     "output_type": "stream",
     "text": [
      "Train Loss: 0.086673 | Val Loss: 0.079195 | PSNR: 25.01 dB | SSIM: 0.6768\n",
      "Saved best model at epoch 2\n",
      "\n",
      "Epoch 3/50\n"
     ]
    },
    {
     "data": {
      "application/vnd.jupyter.widget-view+json": {
       "model_id": "1d4358f500314868bb329e438c5bed7e",
       "version_major": 2,
       "version_minor": 0
      },
      "text/plain": [
       "Training:   0%|          | 0/61 [00:00<?, ?it/s]"
      ]
     },
     "metadata": {},
     "output_type": "display_data"
    },
    {
     "data": {
      "application/vnd.jupyter.widget-view+json": {
       "model_id": "a6bbd9f529684610b8dad7c94724a975",
       "version_major": 2,
       "version_minor": 0
      },
      "text/plain": [
       "Validation:   0%|          | 0/13 [00:00<?, ?it/s]"
      ]
     },
     "metadata": {},
     "output_type": "display_data"
    },
    {
     "name": "stdout",
     "output_type": "stream",
     "text": [
      "Train Loss: 0.073843 | Val Loss: 0.075885 | PSNR: 25.49 dB | SSIM: 0.6557\n",
      "Saved best model at epoch 3\n",
      "\n",
      "Epoch 4/50\n"
     ]
    },
    {
     "data": {
      "application/vnd.jupyter.widget-view+json": {
       "model_id": "6dae3a96cd95472cba42253be37e1d85",
       "version_major": 2,
       "version_minor": 0
      },
      "text/plain": [
       "Training:   0%|          | 0/61 [00:00<?, ?it/s]"
      ]
     },
     "metadata": {},
     "output_type": "display_data"
    },
    {
     "data": {
      "application/vnd.jupyter.widget-view+json": {
       "model_id": "4c27768b55354d9585774e3e1c591017",
       "version_major": 2,
       "version_minor": 0
      },
      "text/plain": [
       "Validation:   0%|          | 0/13 [00:00<?, ?it/s]"
      ]
     },
     "metadata": {},
     "output_type": "display_data"
    },
    {
     "name": "stdout",
     "output_type": "stream",
     "text": [
      "Train Loss: 0.069361 | Val Loss: 0.070397 | PSNR: 25.91 dB | SSIM: 0.6452\n",
      "Saved best model at epoch 4\n",
      "\n",
      "Epoch 5/50\n"
     ]
    },
    {
     "data": {
      "application/vnd.jupyter.widget-view+json": {
       "model_id": "0c79995f36aa4eb5aecc7811e02838e7",
       "version_major": 2,
       "version_minor": 0
      },
      "text/plain": [
       "Training:   0%|          | 0/61 [00:00<?, ?it/s]"
      ]
     },
     "metadata": {},
     "output_type": "display_data"
    },
    {
     "data": {
      "application/vnd.jupyter.widget-view+json": {
       "model_id": "5cb77dd5c65d466bb8c8174f85f3f93a",
       "version_major": 2,
       "version_minor": 0
      },
      "text/plain": [
       "Validation:   0%|          | 0/13 [00:00<?, ?it/s]"
      ]
     },
     "metadata": {},
     "output_type": "display_data"
    },
    {
     "name": "stdout",
     "output_type": "stream",
     "text": [
      "Train Loss: 0.066259 | Val Loss: 0.068550 | PSNR: 26.09 dB | SSIM: 0.6361\n",
      "Saved best model at epoch 5\n",
      "\n",
      "Epoch 6/50\n"
     ]
    },
    {
     "data": {
      "application/vnd.jupyter.widget-view+json": {
       "model_id": "cbbf3c0f82144a49ba5c9a1454d56368",
       "version_major": 2,
       "version_minor": 0
      },
      "text/plain": [
       "Training:   0%|          | 0/61 [00:00<?, ?it/s]"
      ]
     },
     "metadata": {},
     "output_type": "display_data"
    },
    {
     "data": {
      "application/vnd.jupyter.widget-view+json": {
       "model_id": "b60d50f98d1e44708d9268dc66322b93",
       "version_major": 2,
       "version_minor": 0
      },
      "text/plain": [
       "Validation:   0%|          | 0/13 [00:00<?, ?it/s]"
      ]
     },
     "metadata": {},
     "output_type": "display_data"
    },
    {
     "name": "stdout",
     "output_type": "stream",
     "text": [
      "Train Loss: 0.064212 | Val Loss: 0.064543 | PSNR: 26.54 dB | SSIM: 0.6926\n",
      "Saved best model at epoch 6\n",
      "\n",
      "Epoch 7/50\n"
     ]
    },
    {
     "data": {
      "application/vnd.jupyter.widget-view+json": {
       "model_id": "11ad4d63cd1f47598d82f6f0c6d9c76c",
       "version_major": 2,
       "version_minor": 0
      },
      "text/plain": [
       "Training:   0%|          | 0/61 [00:00<?, ?it/s]"
      ]
     },
     "metadata": {},
     "output_type": "display_data"
    },
    {
     "data": {
      "application/vnd.jupyter.widget-view+json": {
       "model_id": "fdd8bdbbab414fc7bfcac0a857abc1cd",
       "version_major": 2,
       "version_minor": 0
      },
      "text/plain": [
       "Validation:   0%|          | 0/13 [00:00<?, ?it/s]"
      ]
     },
     "metadata": {},
     "output_type": "display_data"
    },
    {
     "name": "stdout",
     "output_type": "stream",
     "text": [
      "Train Loss: 0.061781 | Val Loss: 0.062506 | PSNR: 26.84 dB | SSIM: 0.7075\n",
      "Saved best model at epoch 7\n",
      "\n",
      "Epoch 8/50\n"
     ]
    },
    {
     "data": {
      "application/vnd.jupyter.widget-view+json": {
       "model_id": "97abf1eac7cf4995a134973ea7de0085",
       "version_major": 2,
       "version_minor": 0
      },
      "text/plain": [
       "Training:   0%|          | 0/61 [00:00<?, ?it/s]"
      ]
     },
     "metadata": {},
     "output_type": "display_data"
    },
    {
     "data": {
      "application/vnd.jupyter.widget-view+json": {
       "model_id": "e20a445b28d2427a861685f24ed5a099",
       "version_major": 2,
       "version_minor": 0
      },
      "text/plain": [
       "Validation:   0%|          | 0/13 [00:00<?, ?it/s]"
      ]
     },
     "metadata": {},
     "output_type": "display_data"
    },
    {
     "name": "stdout",
     "output_type": "stream",
     "text": [
      "Train Loss: 0.059999 | Val Loss: 0.065396 | PSNR: 26.56 dB | SSIM: 0.6434\n",
      "\n",
      "Epoch 9/50\n"
     ]
    },
    {
     "data": {
      "application/vnd.jupyter.widget-view+json": {
       "model_id": "62199043c0a6453ca306322f082a0973",
       "version_major": 2,
       "version_minor": 0
      },
      "text/plain": [
       "Training:   0%|          | 0/61 [00:00<?, ?it/s]"
      ]
     },
     "metadata": {},
     "output_type": "display_data"
    },
    {
     "data": {
      "application/vnd.jupyter.widget-view+json": {
       "model_id": "6664142b32b2476c87a980dd0e80f2ec",
       "version_major": 2,
       "version_minor": 0
      },
      "text/plain": [
       "Validation:   0%|          | 0/13 [00:00<?, ?it/s]"
      ]
     },
     "metadata": {},
     "output_type": "display_data"
    },
    {
     "name": "stdout",
     "output_type": "stream",
     "text": [
      "Train Loss: 0.060787 | Val Loss: 0.065373 | PSNR: 26.67 dB | SSIM: 0.6327\n",
      "\n",
      "Epoch 10/50\n"
     ]
    },
    {
     "data": {
      "application/vnd.jupyter.widget-view+json": {
       "model_id": "362312cb5d2a48ecba2db4e09fd54893",
       "version_major": 2,
       "version_minor": 0
      },
      "text/plain": [
       "Training:   0%|          | 0/61 [00:00<?, ?it/s]"
      ]
     },
     "metadata": {},
     "output_type": "display_data"
    },
    {
     "data": {
      "application/vnd.jupyter.widget-view+json": {
       "model_id": "2a2bae8f5b4d448c901e50bf5fff4ebb",
       "version_major": 2,
       "version_minor": 0
      },
      "text/plain": [
       "Validation:   0%|          | 0/13 [00:00<?, ?it/s]"
      ]
     },
     "metadata": {},
     "output_type": "display_data"
    },
    {
     "name": "stdout",
     "output_type": "stream",
     "text": [
      "Train Loss: 0.059233 | Val Loss: 0.060974 | PSNR: 27.13 dB | SSIM: 0.6393\n",
      "Saved best model at epoch 10\n",
      "\n",
      "Epoch 11/50\n"
     ]
    },
    {
     "data": {
      "application/vnd.jupyter.widget-view+json": {
       "model_id": "a0496682421c48cd8f81d2339af617d2",
       "version_major": 2,
       "version_minor": 0
      },
      "text/plain": [
       "Training:   0%|          | 0/61 [00:00<?, ?it/s]"
      ]
     },
     "metadata": {},
     "output_type": "display_data"
    },
    {
     "data": {
      "application/vnd.jupyter.widget-view+json": {
       "model_id": "085329f8f30247858df56ef088b3a602",
       "version_major": 2,
       "version_minor": 0
      },
      "text/plain": [
       "Validation:   0%|          | 0/13 [00:00<?, ?it/s]"
      ]
     },
     "metadata": {},
     "output_type": "display_data"
    },
    {
     "name": "stdout",
     "output_type": "stream",
     "text": [
      "Train Loss: 0.057333 | Val Loss: 0.058699 | PSNR: 27.30 dB | SSIM: 0.6996\n",
      "Saved best model at epoch 11\n",
      "\n",
      "Epoch 12/50\n"
     ]
    },
    {
     "data": {
      "application/vnd.jupyter.widget-view+json": {
       "model_id": "a1fbc3e77e48453aac14ceeef691927e",
       "version_major": 2,
       "version_minor": 0
      },
      "text/plain": [
       "Training:   0%|          | 0/61 [00:00<?, ?it/s]"
      ]
     },
     "metadata": {},
     "output_type": "display_data"
    },
    {
     "data": {
      "application/vnd.jupyter.widget-view+json": {
       "model_id": "1a2f916b74434e9c89272ba3bdfa37eb",
       "version_major": 2,
       "version_minor": 0
      },
      "text/plain": [
       "Validation:   0%|          | 0/13 [00:00<?, ?it/s]"
      ]
     },
     "metadata": {},
     "output_type": "display_data"
    },
    {
     "name": "stdout",
     "output_type": "stream",
     "text": [
      "Train Loss: 0.057335 | Val Loss: 0.059036 | PSNR: 27.27 dB | SSIM: 0.6752\n",
      "\n",
      "Epoch 13/50\n"
     ]
    },
    {
     "data": {
      "application/vnd.jupyter.widget-view+json": {
       "model_id": "c3b295e749494dc492d38d81497a0673",
       "version_major": 2,
       "version_minor": 0
      },
      "text/plain": [
       "Training:   0%|          | 0/61 [00:00<?, ?it/s]"
      ]
     },
     "metadata": {},
     "output_type": "display_data"
    },
    {
     "data": {
      "application/vnd.jupyter.widget-view+json": {
       "model_id": "e876627cd53b4ba19dca6aff89438882",
       "version_major": 2,
       "version_minor": 0
      },
      "text/plain": [
       "Validation:   0%|          | 0/13 [00:00<?, ?it/s]"
      ]
     },
     "metadata": {},
     "output_type": "display_data"
    },
    {
     "name": "stdout",
     "output_type": "stream",
     "text": [
      "Train Loss: 0.055872 | Val Loss: 0.059657 | PSNR: 27.06 dB | SSIM: 0.6755\n",
      "\n",
      "Epoch 14/50\n"
     ]
    },
    {
     "data": {
      "application/vnd.jupyter.widget-view+json": {
       "model_id": "9cf8ad7ee65446a894e79d9270c50d28",
       "version_major": 2,
       "version_minor": 0
      },
      "text/plain": [
       "Training:   0%|          | 0/61 [00:00<?, ?it/s]"
      ]
     },
     "metadata": {},
     "output_type": "display_data"
    },
    {
     "data": {
      "application/vnd.jupyter.widget-view+json": {
       "model_id": "dcc0d53badb646c885f484c79ea19208",
       "version_major": 2,
       "version_minor": 0
      },
      "text/plain": [
       "Validation:   0%|          | 0/13 [00:00<?, ?it/s]"
      ]
     },
     "metadata": {},
     "output_type": "display_data"
    },
    {
     "name": "stdout",
     "output_type": "stream",
     "text": [
      "Train Loss: 0.056339 | Val Loss: 0.059152 | PSNR: 27.16 dB | SSIM: 0.6885\n",
      "\n",
      "Epoch 15/50\n"
     ]
    },
    {
     "data": {
      "application/vnd.jupyter.widget-view+json": {
       "model_id": "7d10b0b9f65044b8b2d160efe8459e66",
       "version_major": 2,
       "version_minor": 0
      },
      "text/plain": [
       "Training:   0%|          | 0/61 [00:00<?, ?it/s]"
      ]
     },
     "metadata": {},
     "output_type": "display_data"
    },
    {
     "data": {
      "application/vnd.jupyter.widget-view+json": {
       "model_id": "ebb7dd4b7b404ddeba9433e967affa23",
       "version_major": 2,
       "version_minor": 0
      },
      "text/plain": [
       "Validation:   0%|          | 0/13 [00:00<?, ?it/s]"
      ]
     },
     "metadata": {},
     "output_type": "display_data"
    },
    {
     "name": "stdout",
     "output_type": "stream",
     "text": [
      "Train Loss: 0.055558 | Val Loss: 0.056544 | PSNR: 27.55 dB | SSIM: 0.7006\n",
      "Saved best model at epoch 15\n",
      "\n",
      "Epoch 16/50\n"
     ]
    },
    {
     "data": {
      "application/vnd.jupyter.widget-view+json": {
       "model_id": "a1c89dbc48c946ddb0f211a54f3d70a0",
       "version_major": 2,
       "version_minor": 0
      },
      "text/plain": [
       "Training:   0%|          | 0/61 [00:00<?, ?it/s]"
      ]
     },
     "metadata": {},
     "output_type": "display_data"
    },
    {
     "data": {
      "application/vnd.jupyter.widget-view+json": {
       "model_id": "8ed91621c60641809f7947e03b247836",
       "version_major": 2,
       "version_minor": 0
      },
      "text/plain": [
       "Validation:   0%|          | 0/13 [00:00<?, ?it/s]"
      ]
     },
     "metadata": {},
     "output_type": "display_data"
    },
    {
     "name": "stdout",
     "output_type": "stream",
     "text": [
      "Train Loss: 0.054752 | Val Loss: 0.057918 | PSNR: 27.39 dB | SSIM: 0.6963\n",
      "\n",
      "Epoch 17/50\n"
     ]
    },
    {
     "data": {
      "application/vnd.jupyter.widget-view+json": {
       "model_id": "3aa5a4def15d41ea9666e2faeb045697",
       "version_major": 2,
       "version_minor": 0
      },
      "text/plain": [
       "Training:   0%|          | 0/61 [00:00<?, ?it/s]"
      ]
     },
     "metadata": {},
     "output_type": "display_data"
    },
    {
     "data": {
      "application/vnd.jupyter.widget-view+json": {
       "model_id": "e0888d5773ff4b8ba0dfc1f79c9f1cb4",
       "version_major": 2,
       "version_minor": 0
      },
      "text/plain": [
       "Validation:   0%|          | 0/13 [00:00<?, ?it/s]"
      ]
     },
     "metadata": {},
     "output_type": "display_data"
    },
    {
     "name": "stdout",
     "output_type": "stream",
     "text": [
      "Train Loss: 0.054699 | Val Loss: 0.057303 | PSNR: 27.63 dB | SSIM: 0.6744\n",
      "\n",
      "Epoch 18/50\n"
     ]
    },
    {
     "data": {
      "application/vnd.jupyter.widget-view+json": {
       "model_id": "aff30c45825c44b9a08c7368b289746c",
       "version_major": 2,
       "version_minor": 0
      },
      "text/plain": [
       "Training:   0%|          | 0/61 [00:00<?, ?it/s]"
      ]
     },
     "metadata": {},
     "output_type": "display_data"
    },
    {
     "data": {
      "application/vnd.jupyter.widget-view+json": {
       "model_id": "33ca14d9d15b4fc68df984ae5a150bc9",
       "version_major": 2,
       "version_minor": 0
      },
      "text/plain": [
       "Validation:   0%|          | 0/13 [00:00<?, ?it/s]"
      ]
     },
     "metadata": {},
     "output_type": "display_data"
    },
    {
     "name": "stdout",
     "output_type": "stream",
     "text": [
      "Train Loss: 0.054567 | Val Loss: 0.056362 | PSNR: 27.39 dB | SSIM: 0.6379\n",
      "Saved best model at epoch 18\n",
      "\n",
      "Epoch 19/50\n"
     ]
    },
    {
     "data": {
      "application/vnd.jupyter.widget-view+json": {
       "model_id": "5da8345d993b4e268eb5cee019dedb62",
       "version_major": 2,
       "version_minor": 0
      },
      "text/plain": [
       "Training:   0%|          | 0/61 [00:00<?, ?it/s]"
      ]
     },
     "metadata": {},
     "output_type": "display_data"
    },
    {
     "data": {
      "application/vnd.jupyter.widget-view+json": {
       "model_id": "b21a6c1565d54507aa5c088bd12c596d",
       "version_major": 2,
       "version_minor": 0
      },
      "text/plain": [
       "Validation:   0%|          | 0/13 [00:00<?, ?it/s]"
      ]
     },
     "metadata": {},
     "output_type": "display_data"
    },
    {
     "name": "stdout",
     "output_type": "stream",
     "text": [
      "Train Loss: 0.052763 | Val Loss: 0.056682 | PSNR: 27.23 dB | SSIM: 0.6782\n",
      "\n",
      "Epoch 20/50\n"
     ]
    },
    {
     "data": {
      "application/vnd.jupyter.widget-view+json": {
       "model_id": "aac976736c7a49889b351965f89c7a1a",
       "version_major": 2,
       "version_minor": 0
      },
      "text/plain": [
       "Training:   0%|          | 0/61 [00:00<?, ?it/s]"
      ]
     },
     "metadata": {},
     "output_type": "display_data"
    },
    {
     "data": {
      "application/vnd.jupyter.widget-view+json": {
       "model_id": "a7361a3976214704a8f95200bfe73dd2",
       "version_major": 2,
       "version_minor": 0
      },
      "text/plain": [
       "Validation:   0%|          | 0/13 [00:00<?, ?it/s]"
      ]
     },
     "metadata": {},
     "output_type": "display_data"
    },
    {
     "name": "stdout",
     "output_type": "stream",
     "text": [
      "Train Loss: 0.053229 | Val Loss: 0.055126 | PSNR: 27.87 dB | SSIM: 0.6745\n",
      "Saved best model at epoch 20\n",
      "\n",
      "Epoch 21/50\n"
     ]
    },
    {
     "data": {
      "application/vnd.jupyter.widget-view+json": {
       "model_id": "e2e49cd65e1d476baf864b4189577067",
       "version_major": 2,
       "version_minor": 0
      },
      "text/plain": [
       "Training:   0%|          | 0/61 [00:00<?, ?it/s]"
      ]
     },
     "metadata": {},
     "output_type": "display_data"
    },
    {
     "data": {
      "application/vnd.jupyter.widget-view+json": {
       "model_id": "67c85712fb904b75bc91c0e8fff97961",
       "version_major": 2,
       "version_minor": 0
      },
      "text/plain": [
       "Validation:   0%|          | 0/13 [00:00<?, ?it/s]"
      ]
     },
     "metadata": {},
     "output_type": "display_data"
    },
    {
     "name": "stdout",
     "output_type": "stream",
     "text": [
      "Train Loss: 0.052672 | Val Loss: 0.055567 | PSNR: 27.65 dB | SSIM: 0.7027\n",
      "\n",
      "Epoch 22/50\n"
     ]
    },
    {
     "data": {
      "application/vnd.jupyter.widget-view+json": {
       "model_id": "38f7b4e32b7244b3bfddf98eea029ecb",
       "version_major": 2,
       "version_minor": 0
      },
      "text/plain": [
       "Training:   0%|          | 0/61 [00:00<?, ?it/s]"
      ]
     },
     "metadata": {},
     "output_type": "display_data"
    },
    {
     "data": {
      "application/vnd.jupyter.widget-view+json": {
       "model_id": "be7db1764f0d4595bc49cad7b2745b57",
       "version_major": 2,
       "version_minor": 0
      },
      "text/plain": [
       "Validation:   0%|          | 0/13 [00:00<?, ?it/s]"
      ]
     },
     "metadata": {},
     "output_type": "display_data"
    },
    {
     "name": "stdout",
     "output_type": "stream",
     "text": [
      "Train Loss: 0.052818 | Val Loss: 0.056066 | PSNR: 27.48 dB | SSIM: 0.6689\n",
      "\n",
      "Epoch 23/50\n"
     ]
    },
    {
     "data": {
      "application/vnd.jupyter.widget-view+json": {
       "model_id": "6cc2292e90bc43afbde71b0c535318ae",
       "version_major": 2,
       "version_minor": 0
      },
      "text/plain": [
       "Training:   0%|          | 0/61 [00:00<?, ?it/s]"
      ]
     },
     "metadata": {},
     "output_type": "display_data"
    },
    {
     "data": {
      "application/vnd.jupyter.widget-view+json": {
       "model_id": "4b312b3c25be4187932f34cee8fd4377",
       "version_major": 2,
       "version_minor": 0
      },
      "text/plain": [
       "Validation:   0%|          | 0/13 [00:00<?, ?it/s]"
      ]
     },
     "metadata": {},
     "output_type": "display_data"
    },
    {
     "name": "stdout",
     "output_type": "stream",
     "text": [
      "Train Loss: 0.052038 | Val Loss: 0.054781 | PSNR: 27.79 dB | SSIM: 0.6737\n",
      "Saved best model at epoch 23\n",
      "\n",
      "Epoch 24/50\n"
     ]
    },
    {
     "data": {
      "application/vnd.jupyter.widget-view+json": {
       "model_id": "15373d1ee98c47d7819846c7078e4d67",
       "version_major": 2,
       "version_minor": 0
      },
      "text/plain": [
       "Training:   0%|          | 0/61 [00:00<?, ?it/s]"
      ]
     },
     "metadata": {},
     "output_type": "display_data"
    },
    {
     "data": {
      "application/vnd.jupyter.widget-view+json": {
       "model_id": "0f6cd836149a42a0b834d7d1e4b10aed",
       "version_major": 2,
       "version_minor": 0
      },
      "text/plain": [
       "Validation:   0%|          | 0/13 [00:00<?, ?it/s]"
      ]
     },
     "metadata": {},
     "output_type": "display_data"
    },
    {
     "name": "stdout",
     "output_type": "stream",
     "text": [
      "Train Loss: 0.051645 | Val Loss: 0.055318 | PSNR: 27.62 dB | SSIM: 0.6649\n",
      "\n",
      "Epoch 25/50\n"
     ]
    },
    {
     "data": {
      "application/vnd.jupyter.widget-view+json": {
       "model_id": "7262d696754849e789bfb131969abfd7",
       "version_major": 2,
       "version_minor": 0
      },
      "text/plain": [
       "Training:   0%|          | 0/61 [00:00<?, ?it/s]"
      ]
     },
     "metadata": {},
     "output_type": "display_data"
    },
    {
     "data": {
      "application/vnd.jupyter.widget-view+json": {
       "model_id": "1ce54cbaefa642c491ceabda1383f94e",
       "version_major": 2,
       "version_minor": 0
      },
      "text/plain": [
       "Validation:   0%|          | 0/13 [00:00<?, ?it/s]"
      ]
     },
     "metadata": {},
     "output_type": "display_data"
    },
    {
     "name": "stdout",
     "output_type": "stream",
     "text": [
      "Train Loss: 0.051221 | Val Loss: 0.054384 | PSNR: 27.72 dB | SSIM: 0.6716\n",
      "Saved best model at epoch 25\n",
      "\n",
      "Epoch 26/50\n"
     ]
    },
    {
     "data": {
      "application/vnd.jupyter.widget-view+json": {
       "model_id": "0c328bbe5e954333bbedff477bc4e543",
       "version_major": 2,
       "version_minor": 0
      },
      "text/plain": [
       "Training:   0%|          | 0/61 [00:00<?, ?it/s]"
      ]
     },
     "metadata": {},
     "output_type": "display_data"
    },
    {
     "data": {
      "application/vnd.jupyter.widget-view+json": {
       "model_id": "44caca8dee3c449982328338d9534de6",
       "version_major": 2,
       "version_minor": 0
      },
      "text/plain": [
       "Validation:   0%|          | 0/13 [00:00<?, ?it/s]"
      ]
     },
     "metadata": {},
     "output_type": "display_data"
    },
    {
     "name": "stdout",
     "output_type": "stream",
     "text": [
      "Train Loss: 0.051205 | Val Loss: 0.056845 | PSNR: 27.35 dB | SSIM: 0.6936\n",
      "\n",
      "Epoch 27/50\n"
     ]
    },
    {
     "data": {
      "application/vnd.jupyter.widget-view+json": {
       "model_id": "690caf43d19a4794bb2ae6a7d4236c9d",
       "version_major": 2,
       "version_minor": 0
      },
      "text/plain": [
       "Training:   0%|          | 0/61 [00:00<?, ?it/s]"
      ]
     },
     "metadata": {},
     "output_type": "display_data"
    },
    {
     "data": {
      "application/vnd.jupyter.widget-view+json": {
       "model_id": "96fbe36d0326411b8bbdab0f8c6eb6d7",
       "version_major": 2,
       "version_minor": 0
      },
      "text/plain": [
       "Validation:   0%|          | 0/13 [00:00<?, ?it/s]"
      ]
     },
     "metadata": {},
     "output_type": "display_data"
    },
    {
     "name": "stdout",
     "output_type": "stream",
     "text": [
      "Train Loss: 0.050661 | Val Loss: 0.054085 | PSNR: 27.88 dB | SSIM: 0.6892\n",
      "Saved best model at epoch 27\n",
      "\n",
      "Epoch 28/50\n"
     ]
    },
    {
     "data": {
      "application/vnd.jupyter.widget-view+json": {
       "model_id": "c7423932b4ab48bb86f9cdbe5fe0a338",
       "version_major": 2,
       "version_minor": 0
      },
      "text/plain": [
       "Training:   0%|          | 0/61 [00:00<?, ?it/s]"
      ]
     },
     "metadata": {},
     "output_type": "display_data"
    },
    {
     "data": {
      "application/vnd.jupyter.widget-view+json": {
       "model_id": "2200cfecac6049fa864695664dab0a1e",
       "version_major": 2,
       "version_minor": 0
      },
      "text/plain": [
       "Validation:   0%|          | 0/13 [00:00<?, ?it/s]"
      ]
     },
     "metadata": {},
     "output_type": "display_data"
    },
    {
     "name": "stdout",
     "output_type": "stream",
     "text": [
      "Train Loss: 0.049455 | Val Loss: 0.054385 | PSNR: 27.78 dB | SSIM: 0.6946\n",
      "\n",
      "Epoch 29/50\n"
     ]
    },
    {
     "data": {
      "application/vnd.jupyter.widget-view+json": {
       "model_id": "8118885f504a48799ace163d0e37dfc0",
       "version_major": 2,
       "version_minor": 0
      },
      "text/plain": [
       "Training:   0%|          | 0/61 [00:00<?, ?it/s]"
      ]
     },
     "metadata": {},
     "output_type": "display_data"
    },
    {
     "data": {
      "application/vnd.jupyter.widget-view+json": {
       "model_id": "b0a4fe44d1f54ba48590f3b36ad6b919",
       "version_major": 2,
       "version_minor": 0
      },
      "text/plain": [
       "Validation:   0%|          | 0/13 [00:00<?, ?it/s]"
      ]
     },
     "metadata": {},
     "output_type": "display_data"
    },
    {
     "name": "stdout",
     "output_type": "stream",
     "text": [
      "Train Loss: 0.049608 | Val Loss: 0.054141 | PSNR: 27.99 dB | SSIM: 0.6649\n",
      "\n",
      "Epoch 30/50\n"
     ]
    },
    {
     "data": {
      "application/vnd.jupyter.widget-view+json": {
       "model_id": "c0341d8d29474185b1fcd4ab058786e7",
       "version_major": 2,
       "version_minor": 0
      },
      "text/plain": [
       "Training:   0%|          | 0/61 [00:00<?, ?it/s]"
      ]
     },
     "metadata": {},
     "output_type": "display_data"
    },
    {
     "data": {
      "application/vnd.jupyter.widget-view+json": {
       "model_id": "49fadcebfb594290b9551250cec2977b",
       "version_major": 2,
       "version_minor": 0
      },
      "text/plain": [
       "Validation:   0%|          | 0/13 [00:00<?, ?it/s]"
      ]
     },
     "metadata": {},
     "output_type": "display_data"
    },
    {
     "name": "stdout",
     "output_type": "stream",
     "text": [
      "Train Loss: 0.049638 | Val Loss: 0.055173 | PSNR: 27.71 dB | SSIM: 0.6955\n",
      "\n",
      "Epoch 31/50\n"
     ]
    },
    {
     "data": {
      "application/vnd.jupyter.widget-view+json": {
       "model_id": "bba921f4ef474d8c8dd562b0ec80c8d2",
       "version_major": 2,
       "version_minor": 0
      },
      "text/plain": [
       "Training:   0%|          | 0/61 [00:00<?, ?it/s]"
      ]
     },
     "metadata": {},
     "output_type": "display_data"
    },
    {
     "data": {
      "application/vnd.jupyter.widget-view+json": {
       "model_id": "1cc945fbcf1a456faf983c2eb766fcf1",
       "version_major": 2,
       "version_minor": 0
      },
      "text/plain": [
       "Validation:   0%|          | 0/13 [00:00<?, ?it/s]"
      ]
     },
     "metadata": {},
     "output_type": "display_data"
    },
    {
     "name": "stdout",
     "output_type": "stream",
     "text": [
      "Train Loss: 0.049581 | Val Loss: 0.055338 | PSNR: 27.65 dB | SSIM: 0.6633\n",
      "\n",
      "Epoch 32/50\n"
     ]
    },
    {
     "data": {
      "application/vnd.jupyter.widget-view+json": {
       "model_id": "8182bfb8c994426dac57b3b690cca620",
       "version_major": 2,
       "version_minor": 0
      },
      "text/plain": [
       "Training:   0%|          | 0/61 [00:00<?, ?it/s]"
      ]
     },
     "metadata": {},
     "output_type": "display_data"
    },
    {
     "data": {
      "application/vnd.jupyter.widget-view+json": {
       "model_id": "758c0d07f15e4b6a92f8662411ef02aa",
       "version_major": 2,
       "version_minor": 0
      },
      "text/plain": [
       "Validation:   0%|          | 0/13 [00:00<?, ?it/s]"
      ]
     },
     "metadata": {},
     "output_type": "display_data"
    },
    {
     "name": "stdout",
     "output_type": "stream",
     "text": [
      "Train Loss: 0.049286 | Val Loss: 0.054257 | PSNR: 27.81 dB | SSIM: 0.6961\n",
      "\n",
      "Epoch 33/50\n"
     ]
    },
    {
     "data": {
      "application/vnd.jupyter.widget-view+json": {
       "model_id": "d09ce08e16db4876959912187d0e93cb",
       "version_major": 2,
       "version_minor": 0
      },
      "text/plain": [
       "Training:   0%|          | 0/61 [00:00<?, ?it/s]"
      ]
     },
     "metadata": {},
     "output_type": "display_data"
    },
    {
     "data": {
      "application/vnd.jupyter.widget-view+json": {
       "model_id": "03fe24f9ed54420d93087975a3300c66",
       "version_major": 2,
       "version_minor": 0
      },
      "text/plain": [
       "Validation:   0%|          | 0/13 [00:00<?, ?it/s]"
      ]
     },
     "metadata": {},
     "output_type": "display_data"
    },
    {
     "name": "stdout",
     "output_type": "stream",
     "text": [
      "Train Loss: 0.048342 | Val Loss: 0.055467 | PSNR: 27.58 dB | SSIM: 0.6951\n",
      "\n",
      "Epoch 34/50\n"
     ]
    },
    {
     "data": {
      "application/vnd.jupyter.widget-view+json": {
       "model_id": "7c784de91b0744f2969e83b93f6727f0",
       "version_major": 2,
       "version_minor": 0
      },
      "text/plain": [
       "Training:   0%|          | 0/61 [00:00<?, ?it/s]"
      ]
     },
     "metadata": {},
     "output_type": "display_data"
    },
    {
     "data": {
      "application/vnd.jupyter.widget-view+json": {
       "model_id": "2065254042c34cddba0598fdf818cf63",
       "version_major": 2,
       "version_minor": 0
      },
      "text/plain": [
       "Validation:   0%|          | 0/13 [00:00<?, ?it/s]"
      ]
     },
     "metadata": {},
     "output_type": "display_data"
    },
    {
     "name": "stdout",
     "output_type": "stream",
     "text": [
      "Train Loss: 0.046558 | Val Loss: 0.053275 | PSNR: 27.98 dB | SSIM: 0.6716\n",
      "Saved best model at epoch 34\n",
      "\n",
      "Epoch 35/50\n"
     ]
    },
    {
     "data": {
      "application/vnd.jupyter.widget-view+json": {
       "model_id": "62bec5c57336462b945e0f9affca0709",
       "version_major": 2,
       "version_minor": 0
      },
      "text/plain": [
       "Training:   0%|          | 0/61 [00:00<?, ?it/s]"
      ]
     },
     "metadata": {},
     "output_type": "display_data"
    },
    {
     "data": {
      "application/vnd.jupyter.widget-view+json": {
       "model_id": "49ab8b4d8ed547c68c2aaf6ed813204c",
       "version_major": 2,
       "version_minor": 0
      },
      "text/plain": [
       "Validation:   0%|          | 0/13 [00:00<?, ?it/s]"
      ]
     },
     "metadata": {},
     "output_type": "display_data"
    },
    {
     "name": "stdout",
     "output_type": "stream",
     "text": [
      "Train Loss: 0.045241 | Val Loss: 0.053534 | PSNR: 27.90 dB | SSIM: 0.6923\n",
      "\n",
      "Epoch 36/50\n"
     ]
    },
    {
     "data": {
      "application/vnd.jupyter.widget-view+json": {
       "model_id": "97c913d528a54bcdb86f2f8c2304f882",
       "version_major": 2,
       "version_minor": 0
      },
      "text/plain": [
       "Training:   0%|          | 0/61 [00:00<?, ?it/s]"
      ]
     },
     "metadata": {},
     "output_type": "display_data"
    },
    {
     "data": {
      "application/vnd.jupyter.widget-view+json": {
       "model_id": "62a0fcffb789454fb61328e51eb606a4",
       "version_major": 2,
       "version_minor": 0
      },
      "text/plain": [
       "Validation:   0%|          | 0/13 [00:00<?, ?it/s]"
      ]
     },
     "metadata": {},
     "output_type": "display_data"
    },
    {
     "name": "stdout",
     "output_type": "stream",
     "text": [
      "Train Loss: 0.044426 | Val Loss: 0.054048 | PSNR: 27.79 dB | SSIM: 0.6696\n",
      "\n",
      "Epoch 37/50\n"
     ]
    },
    {
     "data": {
      "application/vnd.jupyter.widget-view+json": {
       "model_id": "ed538a5f192d46d3a04eab411a44deb3",
       "version_major": 2,
       "version_minor": 0
      },
      "text/plain": [
       "Training:   0%|          | 0/61 [00:00<?, ?it/s]"
      ]
     },
     "metadata": {},
     "output_type": "display_data"
    },
    {
     "data": {
      "application/vnd.jupyter.widget-view+json": {
       "model_id": "3f4d9bd603cb4e7ba3c57d3fd21b0219",
       "version_major": 2,
       "version_minor": 0
      },
      "text/plain": [
       "Validation:   0%|          | 0/13 [00:00<?, ?it/s]"
      ]
     },
     "metadata": {},
     "output_type": "display_data"
    },
    {
     "name": "stdout",
     "output_type": "stream",
     "text": [
      "Train Loss: 0.044505 | Val Loss: 0.054789 | PSNR: 27.78 dB | SSIM: 0.6694\n",
      "\n",
      "Epoch 38/50\n"
     ]
    },
    {
     "data": {
      "application/vnd.jupyter.widget-view+json": {
       "model_id": "6e62142614744f6e918508cfd259e0c9",
       "version_major": 2,
       "version_minor": 0
      },
      "text/plain": [
       "Training:   0%|          | 0/61 [00:00<?, ?it/s]"
      ]
     },
     "metadata": {},
     "output_type": "display_data"
    },
    {
     "data": {
      "application/vnd.jupyter.widget-view+json": {
       "model_id": "8e716be8cba64ccd9c29346cbd910e1f",
       "version_major": 2,
       "version_minor": 0
      },
      "text/plain": [
       "Validation:   0%|          | 0/13 [00:00<?, ?it/s]"
      ]
     },
     "metadata": {},
     "output_type": "display_data"
    },
    {
     "name": "stdout",
     "output_type": "stream",
     "text": [
      "Train Loss: 0.043851 | Val Loss: 0.054411 | PSNR: 27.71 dB | SSIM: 0.6943\n",
      "\n",
      "Epoch 39/50\n"
     ]
    },
    {
     "data": {
      "application/vnd.jupyter.widget-view+json": {
       "model_id": "5fab61ae069e47eebaa6ab167afb527a",
       "version_major": 2,
       "version_minor": 0
      },
      "text/plain": [
       "Training:   0%|          | 0/61 [00:00<?, ?it/s]"
      ]
     },
     "metadata": {},
     "output_type": "display_data"
    },
    {
     "data": {
      "application/vnd.jupyter.widget-view+json": {
       "model_id": "0a68fac977c447dbbd0dc5fb86db73b2",
       "version_major": 2,
       "version_minor": 0
      },
      "text/plain": [
       "Validation:   0%|          | 0/13 [00:00<?, ?it/s]"
      ]
     },
     "metadata": {},
     "output_type": "display_data"
    },
    {
     "name": "stdout",
     "output_type": "stream",
     "text": [
      "Train Loss: 0.043435 | Val Loss: 0.053669 | PSNR: 27.87 dB | SSIM: 0.6738\n",
      "\n",
      "Epoch 40/50\n"
     ]
    },
    {
     "data": {
      "application/vnd.jupyter.widget-view+json": {
       "model_id": "724c67bf59b44ad2ba14eb509b228930",
       "version_major": 2,
       "version_minor": 0
      },
      "text/plain": [
       "Training:   0%|          | 0/61 [00:00<?, ?it/s]"
      ]
     },
     "metadata": {},
     "output_type": "display_data"
    },
    {
     "data": {
      "application/vnd.jupyter.widget-view+json": {
       "model_id": "169f8cdd627142929e1b80eea7fcb13d",
       "version_major": 2,
       "version_minor": 0
      },
      "text/plain": [
       "Validation:   0%|          | 0/13 [00:00<?, ?it/s]"
      ]
     },
     "metadata": {},
     "output_type": "display_data"
    },
    {
     "name": "stdout",
     "output_type": "stream",
     "text": [
      "Train Loss: 0.043061 | Val Loss: 0.053414 | PSNR: 27.95 dB | SSIM: 0.6886\n",
      "\n",
      "Epoch 41/50\n"
     ]
    },
    {
     "data": {
      "application/vnd.jupyter.widget-view+json": {
       "model_id": "39f5b42c7e9c466f9d53fe18a4910799",
       "version_major": 2,
       "version_minor": 0
      },
      "text/plain": [
       "Training:   0%|          | 0/61 [00:00<?, ?it/s]"
      ]
     },
     "metadata": {},
     "output_type": "display_data"
    },
    {
     "data": {
      "application/vnd.jupyter.widget-view+json": {
       "model_id": "896a5438a2d64f9fa43613ccbb712628",
       "version_major": 2,
       "version_minor": 0
      },
      "text/plain": [
       "Validation:   0%|          | 0/13 [00:00<?, ?it/s]"
      ]
     },
     "metadata": {},
     "output_type": "display_data"
    },
    {
     "name": "stdout",
     "output_type": "stream",
     "text": [
      "Train Loss: 0.041339 | Val Loss: 0.052908 | PSNR: 27.94 dB | SSIM: 0.6832\n",
      "Saved best model at epoch 41\n",
      "\n",
      "Epoch 42/50\n"
     ]
    },
    {
     "data": {
      "application/vnd.jupyter.widget-view+json": {
       "model_id": "926b6ce82dd0436ea18833b21079ce8f",
       "version_major": 2,
       "version_minor": 0
      },
      "text/plain": [
       "Training:   0%|          | 0/61 [00:00<?, ?it/s]"
      ]
     },
     "metadata": {},
     "output_type": "display_data"
    },
    {
     "data": {
      "application/vnd.jupyter.widget-view+json": {
       "model_id": "06c6400bca3847c7a98311def9e93d6b",
       "version_major": 2,
       "version_minor": 0
      },
      "text/plain": [
       "Validation:   0%|          | 0/13 [00:00<?, ?it/s]"
      ]
     },
     "metadata": {},
     "output_type": "display_data"
    },
    {
     "name": "stdout",
     "output_type": "stream",
     "text": [
      "Train Loss: 0.040585 | Val Loss: 0.052954 | PSNR: 28.02 dB | SSIM: 0.6848\n",
      "\n",
      "Epoch 43/50\n"
     ]
    },
    {
     "data": {
      "application/vnd.jupyter.widget-view+json": {
       "model_id": "0c9257818a95426eb3b45bb6f64079e3",
       "version_major": 2,
       "version_minor": 0
      },
      "text/plain": [
       "Training:   0%|          | 0/61 [00:00<?, ?it/s]"
      ]
     },
     "metadata": {},
     "output_type": "display_data"
    },
    {
     "data": {
      "application/vnd.jupyter.widget-view+json": {
       "model_id": "92b120a1e7424e09b3b1f42d91b65b42",
       "version_major": 2,
       "version_minor": 0
      },
      "text/plain": [
       "Validation:   0%|          | 0/13 [00:00<?, ?it/s]"
      ]
     },
     "metadata": {},
     "output_type": "display_data"
    },
    {
     "name": "stdout",
     "output_type": "stream",
     "text": [
      "Train Loss: 0.040302 | Val Loss: 0.053621 | PSNR: 27.85 dB | SSIM: 0.6764\n",
      "\n",
      "Epoch 44/50\n"
     ]
    },
    {
     "data": {
      "application/vnd.jupyter.widget-view+json": {
       "model_id": "45a06d490175448bac400bf8c45b09e2",
       "version_major": 2,
       "version_minor": 0
      },
      "text/plain": [
       "Training:   0%|          | 0/61 [00:00<?, ?it/s]"
      ]
     },
     "metadata": {},
     "output_type": "display_data"
    },
    {
     "data": {
      "application/vnd.jupyter.widget-view+json": {
       "model_id": "0ba5618ccb934aa2b9ff786f2d4daa51",
       "version_major": 2,
       "version_minor": 0
      },
      "text/plain": [
       "Validation:   0%|          | 0/13 [00:00<?, ?it/s]"
      ]
     },
     "metadata": {},
     "output_type": "display_data"
    },
    {
     "name": "stdout",
     "output_type": "stream",
     "text": [
      "Train Loss: 0.039779 | Val Loss: 0.053630 | PSNR: 27.80 dB | SSIM: 0.6874\n",
      "\n",
      "Epoch 45/50\n"
     ]
    },
    {
     "data": {
      "application/vnd.jupyter.widget-view+json": {
       "model_id": "0f209fec0cc04787a719423f6a746465",
       "version_major": 2,
       "version_minor": 0
      },
      "text/plain": [
       "Training:   0%|          | 0/61 [00:00<?, ?it/s]"
      ]
     },
     "metadata": {},
     "output_type": "display_data"
    },
    {
     "data": {
      "application/vnd.jupyter.widget-view+json": {
       "model_id": "3a9bdada382e4e658f9294d43a920494",
       "version_major": 2,
       "version_minor": 0
      },
      "text/plain": [
       "Validation:   0%|          | 0/13 [00:00<?, ?it/s]"
      ]
     },
     "metadata": {},
     "output_type": "display_data"
    },
    {
     "name": "stdout",
     "output_type": "stream",
     "text": [
      "Train Loss: 0.039591 | Val Loss: 0.053100 | PSNR: 27.90 dB | SSIM: 0.6908\n",
      "\n",
      "Epoch 46/50\n"
     ]
    },
    {
     "data": {
      "application/vnd.jupyter.widget-view+json": {
       "model_id": "795396fb30f146fdb507f97b546bab0f",
       "version_major": 2,
       "version_minor": 0
      },
      "text/plain": [
       "Training:   0%|          | 0/61 [00:00<?, ?it/s]"
      ]
     },
     "metadata": {},
     "output_type": "display_data"
    },
    {
     "data": {
      "application/vnd.jupyter.widget-view+json": {
       "model_id": "ad933d7191b44061a2ecb11d222067d3",
       "version_major": 2,
       "version_minor": 0
      },
      "text/plain": [
       "Validation:   0%|          | 0/13 [00:00<?, ?it/s]"
      ]
     },
     "metadata": {},
     "output_type": "display_data"
    },
    {
     "name": "stdout",
     "output_type": "stream",
     "text": [
      "Train Loss: 0.039312 | Val Loss: 0.052772 | PSNR: 27.96 dB | SSIM: 0.6700\n",
      "Saved best model at epoch 46\n",
      "\n",
      "Epoch 47/50\n"
     ]
    },
    {
     "data": {
      "application/vnd.jupyter.widget-view+json": {
       "model_id": "0c45580c442443baa7ab446c0253caa2",
       "version_major": 2,
       "version_minor": 0
      },
      "text/plain": [
       "Training:   0%|          | 0/61 [00:00<?, ?it/s]"
      ]
     },
     "metadata": {},
     "output_type": "display_data"
    },
    {
     "data": {
      "application/vnd.jupyter.widget-view+json": {
       "model_id": "5968b49af65c4dcbab799e20ac945f8c",
       "version_major": 2,
       "version_minor": 0
      },
      "text/plain": [
       "Validation:   0%|          | 0/13 [00:00<?, ?it/s]"
      ]
     },
     "metadata": {},
     "output_type": "display_data"
    },
    {
     "name": "stdout",
     "output_type": "stream",
     "text": [
      "Train Loss: 0.039140 | Val Loss: 0.053325 | PSNR: 27.90 dB | SSIM: 0.6817\n",
      "\n",
      "Epoch 48/50\n"
     ]
    },
    {
     "data": {
      "application/vnd.jupyter.widget-view+json": {
       "model_id": "581ccd921e744c8d856477d41523dc17",
       "version_major": 2,
       "version_minor": 0
      },
      "text/plain": [
       "Training:   0%|          | 0/61 [00:00<?, ?it/s]"
      ]
     },
     "metadata": {},
     "output_type": "display_data"
    },
    {
     "data": {
      "application/vnd.jupyter.widget-view+json": {
       "model_id": "968f37d7ed5c44ad9a186d6e80a119c3",
       "version_major": 2,
       "version_minor": 0
      },
      "text/plain": [
       "Validation:   0%|          | 0/13 [00:00<?, ?it/s]"
      ]
     },
     "metadata": {},
     "output_type": "display_data"
    },
    {
     "name": "stdout",
     "output_type": "stream",
     "text": [
      "Train Loss: 0.039113 | Val Loss: 0.053539 | PSNR: 27.86 dB | SSIM: 0.6723\n",
      "\n",
      "Epoch 49/50\n"
     ]
    },
    {
     "data": {
      "application/vnd.jupyter.widget-view+json": {
       "model_id": "21cddd1022054b3a98a13eb601edacc6",
       "version_major": 2,
       "version_minor": 0
      },
      "text/plain": [
       "Training:   0%|          | 0/61 [00:00<?, ?it/s]"
      ]
     },
     "metadata": {},
     "output_type": "display_data"
    },
    {
     "data": {
      "application/vnd.jupyter.widget-view+json": {
       "model_id": "53e3437b37064dd6a491a991aaccbbe9",
       "version_major": 2,
       "version_minor": 0
      },
      "text/plain": [
       "Validation:   0%|          | 0/13 [00:00<?, ?it/s]"
      ]
     },
     "metadata": {},
     "output_type": "display_data"
    },
    {
     "name": "stdout",
     "output_type": "stream",
     "text": [
      "Train Loss: 0.038684 | Val Loss: 0.053560 | PSNR: 27.79 dB | SSIM: 0.6834\n",
      "\n",
      "Epoch 50/50\n"
     ]
    },
    {
     "data": {
      "application/vnd.jupyter.widget-view+json": {
       "model_id": "f84fc0e3904a4fa6a1c20e1deed81152",
       "version_major": 2,
       "version_minor": 0
      },
      "text/plain": [
       "Training:   0%|          | 0/61 [00:00<?, ?it/s]"
      ]
     },
     "metadata": {},
     "output_type": "display_data"
    },
    {
     "data": {
      "application/vnd.jupyter.widget-view+json": {
       "model_id": "56ccb612769e408ca2fb85bef707c7be",
       "version_major": 2,
       "version_minor": 0
      },
      "text/plain": [
       "Validation:   0%|          | 0/13 [00:00<?, ?it/s]"
      ]
     },
     "metadata": {},
     "output_type": "display_data"
    },
    {
     "name": "stdout",
     "output_type": "stream",
     "text": [
      "Train Loss: 0.038647 | Val Loss: 0.052595 | PSNR: 28.03 dB | SSIM: 0.6935\n",
      "Saved best model at epoch 50\n"
     ]
    }
   ],
   "source": [
    "def train_unet_model():\n",
    "    # Parameters\n",
    "    batch_size = 16\n",
    "    epochs = 50\n",
    "    lr = 1e-4\n",
    "    weight_decay = 1e-4\n",
    "    \n",
    "    # Paths\n",
    "    data_dir = Path(\"/workspace/fastmri-reconstruction/processed_fastmri_data\")\n",
    "    output_dir = \"./unet_output\"\n",
    "    Path(output_dir).mkdir(exist_ok=True)\n",
    "    \n",
    "    # Load datasets\n",
    "    train_dataset = ProcessedFastMRIDataset(\n",
    "    data_dir      = data_dir,\n",
    "    mode          = \"train\",\n",
    "    use_processed = True,\n",
    "    )\n",
    "\n",
    "    val_dataset = ProcessedFastMRIDataset(\n",
    "        data_dir      = data_dir,\n",
    "        mode          = \"val\",\n",
    "        use_processed = True,\n",
    "    )\n",
    "\n",
    "    \n",
    "    print(f\"Loaded {len(train_dataset)} training samples and {len(val_dataset)} validation samples\")\n",
    "    \n",
    "    # Create dataloaders\n",
    "    train_loader = DataLoader(\n",
    "        train_dataset, \n",
    "        batch_size=batch_size, \n",
    "        shuffle=True, \n",
    "        num_workers=4, \n",
    "        pin_memory=True\n",
    "    )\n",
    "    \n",
    "    val_loader = DataLoader(\n",
    "        val_dataset, \n",
    "        batch_size=batch_size, \n",
    "        shuffle=False, \n",
    "        num_workers=4, \n",
    "        pin_memory=True\n",
    "    )\n",
    "    \n",
    "    # Create model, loss, optimizer\n",
    "    model = UNet(\n",
    "        in_chans=1,\n",
    "        out_chans=1,\n",
    "        chans=32,  # Start with 32 channels as in fastMRI baseline\n",
    "        num_pool_layers=4,\n",
    "        drop_prob=0.0\n",
    "    ).to(device)\n",
    "    \n",
    "    print(f\"Model parameters: {sum(p.numel() for p in model.parameters())}\")\n",
    "    \n",
    "    # Loss function - combination of L1 and SSIM\n",
    "    criterion = CombinedLoss(alpha=0.84).to(device) # Move the entire criterion to the GPU\n",
    "    \n",
    "    # Optimizer\n",
    "    optimizer = torch.optim.Adam(\n",
    "        model.parameters(), \n",
    "        lr=lr, \n",
    "        weight_decay=weight_decay\n",
    "    )\n",
    "    \n",
    "    # Learning rate scheduler\n",
    "    scheduler = torch.optim.lr_scheduler.ReduceLROnPlateau(\n",
    "        optimizer, \n",
    "        mode='min', \n",
    "        factor=0.5, \n",
    "        patience=5, \n",
    "    )\n",
    "    \n",
    "    # Training loop\n",
    "    best_val_loss = float('inf')\n",
    "    train_losses = []\n",
    "    val_losses = []\n",
    "    val_psnrs = []\n",
    "    val_ssims = []\n",
    "    \n",
    "    print(\"Starting training...\")\n",
    "    for epoch in range(1, epochs + 1):\n",
    "        print(f\"\\nEpoch {epoch}/{epochs}\")\n",
    "        \n",
    "        # Train\n",
    "        train_loss = train_epoch(model, train_loader, optimizer, criterion, device)\n",
    "        train_losses.append(train_loss)\n",
    "        \n",
    "        # Validate\n",
    "        val_loss, val_psnr, val_ssim = validate(model, val_loader, criterion, device)\n",
    "        val_losses.append(val_loss)\n",
    "        val_psnrs.append(val_psnr)\n",
    "        val_ssims.append(val_ssim)\n",
    "        \n",
    "        # Update learning rate\n",
    "        scheduler.step(val_loss)\n",
    "        \n",
    "        # Print stats\n",
    "        print(f\"Train Loss: {train_loss:.6f} | Val Loss: {val_loss:.6f} | PSNR: {val_psnr:.2f} dB | SSIM: {val_ssim:.4f}\")\n",
    "        \n",
    "        # Visualize results every 5 epochs\n",
    "        if epoch % 5 == 0 or epoch == epochs:\n",
    "            visualize_results(model, val_loader, device, epoch, output_dir)\n",
    "        \n",
    "        # Save best model\n",
    "        if val_loss < best_val_loss:\n",
    "            best_val_loss = val_loss\n",
    "            torch.save({\n",
    "                'epoch': epoch,\n",
    "                'model_state_dict': model.state_dict(),\n",
    "                'optimizer_state_dict': optimizer.state_dict(),\n",
    "                'train_loss': train_loss,\n",
    "                'val_loss': val_loss,\n",
    "                'psnr': val_psnr,\n",
    "                'ssim': val_ssim\n",
    "            }, f\"{output_dir}/best_model.pth\")\n",
    "            print(f\"Saved best model at epoch {epoch}\")\n",
    "            \n",
    "        # Save checkpoint every 10 epochs\n",
    "        if epoch % 10 == 0:\n",
    "            torch.save({\n",
    "                'epoch': epoch,\n",
    "                'model_state_dict': model.state_dict(),\n",
    "                'optimizer_state_dict': optimizer.state_dict(),\n",
    "                'train_loss': train_loss,\n",
    "                'val_loss': val_loss,\n",
    "                'psnr': val_psnr,\n",
    "                'ssim': val_ssim\n",
    "            }, f\"{output_dir}/checkpoint_epoch_{epoch}.pth\")\n",
    "    \n",
    "    # Save final model\n",
    "    torch.save({\n",
    "        'epoch': epochs,\n",
    "        'model_state_dict': model.state_dict(),\n",
    "        'optimizer_state_dict': optimizer.state_dict(),\n",
    "        'train_loss': train_losses[-1],\n",
    "        'val_loss': val_losses[-1],\n",
    "        'psnr': val_psnrs[-1],\n",
    "        'ssim': val_ssims[-1]\n",
    "    }, f\"{output_dir}/final_model.pth\")\n",
    "    \n",
    "    # Plot training curves\n",
    "    plt.figure(figsize=(15, 5))\n",
    "    \n",
    "    plt.subplot(1, 3, 1)\n",
    "    plt.plot(train_losses, label='Train Loss')\n",
    "    plt.plot(val_losses, label='Validation Loss')\n",
    "    plt.xlabel('Epoch')\n",
    "    plt.ylabel('Loss')\n",
    "    plt.legend()\n",
    "    plt.title('Loss Curves')\n",
    "    \n",
    "    plt.subplot(1, 3, 2)\n",
    "    plt.plot(val_psnrs)\n",
    "    plt.xlabel('Epoch')\n",
    "    plt.ylabel('PSNR (dB)')\n",
    "    plt.title('PSNR')\n",
    "    \n",
    "    plt.subplot(1, 3, 3)\n",
    "    plt.plot(val_ssims)\n",
    "    plt.xlabel('Epoch')\n",
    "    plt.ylabel('SSIM')\n",
    "    plt.title('SSIM')\n",
    "    \n",
    "    plt.tight_layout()\n",
    "    plt.savefig(f\"{output_dir}/training_curves.png\")\n",
    "    plt.close()\n",
    "    \n",
    "    return model, train_losses, val_losses, val_psnrs, val_ssims\n",
    "\n",
    "# Execute the training\n",
    "if __name__ == \"__main__\":\n",
    "    model, train_losses, val_losses, val_psnrs, val_ssims = train_unet_model()\n"
   ]
  },
  {
   "cell_type": "markdown",
   "id": "28277d31-caea-49d1-a233-64b40df27721",
   "metadata": {},
   "source": [
    "# Inference and Model Evaluation"
   ]
  },
  {
   "cell_type": "code",
   "execution_count": 34,
   "id": "0efba250-cfa7-4040-aebb-ef72ce9c0243",
   "metadata": {},
   "outputs": [],
   "source": [
    "def evaluate_model(model_path, dataloader, device, output_dir=\"./evaluation\"):\n",
    "    \"\"\"Evaluate a trained model on a dataset\"\"\"\n",
    "    # Load the model\n",
    "    model = UNet(in_chans=1, out_chans=1, chans=32, num_pool_layers=4).to(device)\n",
    "    \n",
    "    checkpoint = torch.load(model_path, map_location=device)\n",
    "    model.load_state_dict(checkpoint['model_state_dict'])\n",
    "    model.eval()\n",
    "    \n",
    "    # Create output directory\n",
    "    os.makedirs(output_dir, exist_ok=True)\n",
    "    \n",
    "    # Initialize metrics\n",
    "    psnrs = []\n",
    "    ssims = []\n",
    "    \n",
    "    # Process batches\n",
    "    with torch.no_grad():\n",
    "        for i, (inputs, targets) in enumerate(tqdm(dataloader, desc=\"Evaluating\")):\n",
    "            inputs = inputs.to(device)\n",
    "            targets = targets.to(device)\n",
    "            \n",
    "            # Add channel dimension if needed\n",
    "            if len(inputs.shape) == 3:\n",
    "                inputs = inputs.unsqueeze(1)\n",
    "            if len(targets.shape) == 3:\n",
    "                targets = targets.unsqueeze(1)\n",
    "            \n",
    "            # Make predictions\n",
    "            outputs = model(inputs)\n",
    "            \n",
    "            # Calculate metrics\n",
    "            for j in range(outputs.size(0)):\n",
    "                output_np = outputs[j, 0].cpu().numpy()\n",
    "                target_np = targets[j, 0].cpu().numpy()\n",
    "                \n",
    "                psnr = calculate_psnr(outputs[j:j+1], targets[j:j+1]).item()\n",
    "                ssim_val = calculate_ssim(output_np, target_np)\n",
    "                \n",
    "                psnrs.append(psnr)\n",
    "                ssims.append(ssim_val)\n",
    "            \n",
    "            # Visualize first batch\n",
    "            if i == 0:\n",
    "                fig, axes = plt.subplots(4, 3, figsize=(15, 20))\n",
    "                fig.suptitle(\"FastMRI Reconstruction Results\", fontsize=16)\n",
    "                \n",
    "                for j in range(min(4, outputs.size(0))):\n",
    "                    # Get images\n",
    "                    input_img = inputs[j, 0].cpu().numpy()\n",
    "                    output_img = outputs[j, 0].cpu().numpy()\n",
    "                    target_img = targets[j, 0].cpu().numpy()\n",
    "                    \n",
    "                    # Display input\n",
    "                    axes[j, 0].imshow(input_img, cmap='gray')\n",
    "                    axes[j, 0].set_title(f\"Input (Undersampled)\")\n",
    "                    axes[j, 0].axis('off')\n",
    "                    \n",
    "                    # Display output\n",
    "                    axes[j, 1].imshow(output_img, cmap='gray')\n",
    "                    axes[j, 1].set_title(f\"Prediction\")\n",
    "                    axes[j, 1].axis('off')\n",
    "                    \n",
    "                    # Display target\n",
    "                    axes[j, 2].imshow(target_img, cmap='gray')\n",
    "                    axes[j, 2].set_title(f\"Ground Truth\")\n",
    "                    axes[j, 2].axis('off')\n",
    "                    \n",
    "                    # Add metrics as text\n",
    "                    axes[j, 1].text(\n",
    "                        10, 20, \n",
    "                        f'PSNR: {psnrs[j]:.2f} dB\\nSSIM: {ssims[j]:.4f}',\n",
    "                        color='white', fontsize=12, \n",
    "                        bbox=dict(facecolor='black', alpha=0.5)\n",
    "                    )\n",
    "                \n",
    "                plt.tight_layout()\n",
    "                plt.subplots_adjust(top=0.95)\n",
    "                plt.savefig(f\"{output_dir}/evaluation_samples.png\")\n",
    "                plt.close()\n",
    "    \n",
    "    # Calculate average metrics\n",
    "    avg_psnr = np.mean(psnrs)\n",
    "    avg_ssim = np.mean(ssims)\n",
    "    \n",
    "    # Print results\n",
    "    print(f\"Average PSNR: {avg_psnr:.2f} dB\")\n",
    "    print(f\"Average SSIM: {avg_ssim:.4f}\")\n",
    "    \n",
    "    # Save metrics\n",
    "    results = {\n",
    "        'psnr': psnrs,\n",
    "        'ssim': ssims,\n",
    "        'avg_psnr': avg_psnr,\n",
    "        'avg_ssim': avg_ssim\n",
    "    }\n",
    "    \n",
    "    # Save in text file\n",
    "    with open(f\"{output_dir}/evaluation_results.txt\", 'w') as f:\n",
    "        f.write(f\"U-Net Baseline Evaluation Results\\n\")\n",
    "        f.write(f\"Average PSNR: {avg_psnr:.2f} dB\\n\")\n",
    "        f.write(f\"Average SSIM: {avg_ssim:.4f}\\n\")\n",
    "    \n",
    "    # Plot histograms of metrics\n",
    "    plt.figure(figsize=(12, 5))\n",
    "    \n",
    "    plt.subplot(1, 2, 1)\n",
    "    plt.hist(psnrs, bins=20)\n",
    "    plt.xlabel('PSNR (dB)')\n",
    "    plt.ylabel('Count')\n",
    "    plt.title(f'PSNR Histogram (Avg: {avg_psnr:.2f} dB)')\n",
    "    \n",
    "    plt.subplot(1, 2, 2)\n",
    "    plt.hist(ssims, bins=20)\n",
    "    plt.xlabel('SSIM')\n",
    "    plt.ylabel('Count')\n",
    "    plt.title(f'SSIM Histogram (Avg: {avg_ssim:.4f})')\n",
    "    \n",
    "    plt.tight_layout()\n",
    "    plt.savefig(f\"{output_dir}/metric_histograms.png\")\n",
    "    plt.close()\n",
    "    \n",
    "    return results\n",
    "\n",
    "# Example usage (uncomment to run)\n",
    "# val_dataset = ProcessedFastMRIDataset(data_dir=\"./processed_fastmri_data\", mode='val', use_processed=True)\n",
    "# val_loader = DataLoader(val_dataset, batch_size=16, shuffle=False, num_workers=4)\n",
    "# results = evaluate_model(\"./unet_output/best_model.pth\", val_loader, device)\n"
   ]
  },
  {
   "cell_type": "markdown",
   "id": "9f8c5126-0f0b-4729-8b27-c8c8649f7fe4",
   "metadata": {},
   "source": [
    "# Run"
   ]
  },
  {
   "cell_type": "code",
   "execution_count": null,
   "id": "49dd2ad3-3691-49d3-b4e4-24a84bf1547d",
   "metadata": {},
   "outputs": [
    {
     "name": "stdout",
     "output_type": "stream",
     "text": [
      "Starting UNet baseline training for FastMRI...\n",
      "Filtering out metadata file: /workspace/fastmri-reconstruction/processed_fastmri_data/train/fastmri_train_4x_metadata.pt\n",
      "Found 61 .pt files to process in /workspace/fastmri-reconstruction/processed_fastmri_data/train after filtering.\n",
      "Processing file: /workspace/fastmri-reconstruction/processed_fastmri_data/train/fastmri_train_4x_batch_0000.pt\n",
      "Processing file: /workspace/fastmri-reconstruction/processed_fastmri_data/train/fastmri_train_4x_batch_0001.pt\n",
      "Processing file: /workspace/fastmri-reconstruction/processed_fastmri_data/train/fastmri_train_4x_batch_0002.pt\n",
      "Processing file: /workspace/fastmri-reconstruction/processed_fastmri_data/train/fastmri_train_4x_batch_0003.pt\n",
      "Processing file: /workspace/fastmri-reconstruction/processed_fastmri_data/train/fastmri_train_4x_batch_0004.pt\n",
      "Processing file: /workspace/fastmri-reconstruction/processed_fastmri_data/train/fastmri_train_4x_batch_0005.pt\n",
      "Processing file: /workspace/fastmri-reconstruction/processed_fastmri_data/train/fastmri_train_4x_batch_0006.pt\n",
      "Processing file: /workspace/fastmri-reconstruction/processed_fastmri_data/train/fastmri_train_4x_batch_0007.pt\n",
      "Processing file: /workspace/fastmri-reconstruction/processed_fastmri_data/train/fastmri_train_4x_batch_0008.pt\n",
      "Processing file: /workspace/fastmri-reconstruction/processed_fastmri_data/train/fastmri_train_4x_batch_0009.pt\n",
      "Processing file: /workspace/fastmri-reconstruction/processed_fastmri_data/train/fastmri_train_4x_batch_0010.pt\n",
      "Processing file: /workspace/fastmri-reconstruction/processed_fastmri_data/train/fastmri_train_4x_batch_0011.pt\n",
      "Processing file: /workspace/fastmri-reconstruction/processed_fastmri_data/train/fastmri_train_4x_batch_0012.pt\n",
      "Processing file: /workspace/fastmri-reconstruction/processed_fastmri_data/train/fastmri_train_4x_batch_0013.pt\n",
      "Processing file: /workspace/fastmri-reconstruction/processed_fastmri_data/train/fastmri_train_4x_batch_0014.pt\n",
      "Processing file: /workspace/fastmri-reconstruction/processed_fastmri_data/train/fastmri_train_4x_batch_0015.pt\n",
      "Processing file: /workspace/fastmri-reconstruction/processed_fastmri_data/train/fastmri_train_4x_batch_0016.pt\n",
      "Processing file: /workspace/fastmri-reconstruction/processed_fastmri_data/train/fastmri_train_4x_batch_0017.pt\n",
      "Processing file: /workspace/fastmri-reconstruction/processed_fastmri_data/train/fastmri_train_4x_batch_0018.pt\n",
      "Processing file: /workspace/fastmri-reconstruction/processed_fastmri_data/train/fastmri_train_4x_batch_0019.pt\n",
      "Processing file: /workspace/fastmri-reconstruction/processed_fastmri_data/train/fastmri_train_4x_batch_0020.pt\n",
      "Processing file: /workspace/fastmri-reconstruction/processed_fastmri_data/train/fastmri_train_4x_batch_0021.pt\n",
      "Processing file: /workspace/fastmri-reconstruction/processed_fastmri_data/train/fastmri_train_4x_batch_0022.pt\n",
      "Processing file: /workspace/fastmri-reconstruction/processed_fastmri_data/train/fastmri_train_4x_batch_0023.pt\n",
      "Processing file: /workspace/fastmri-reconstruction/processed_fastmri_data/train/fastmri_train_4x_batch_0024.pt\n",
      "Processing file: /workspace/fastmri-reconstruction/processed_fastmri_data/train/fastmri_train_4x_batch_0025.pt\n",
      "Processing file: /workspace/fastmri-reconstruction/processed_fastmri_data/train/fastmri_train_4x_batch_0026.pt\n",
      "Processing file: /workspace/fastmri-reconstruction/processed_fastmri_data/train/fastmri_train_4x_batch_0027.pt\n",
      "Processing file: /workspace/fastmri-reconstruction/processed_fastmri_data/train/fastmri_train_4x_batch_0028.pt\n",
      "Processing file: /workspace/fastmri-reconstruction/processed_fastmri_data/train/fastmri_train_4x_batch_0029.pt\n",
      "Processing file: /workspace/fastmri-reconstruction/processed_fastmri_data/train/fastmri_train_4x_batch_0030.pt\n",
      "Processing file: /workspace/fastmri-reconstruction/processed_fastmri_data/train/fastmri_train_4x_batch_0031.pt\n",
      "Processing file: /workspace/fastmri-reconstruction/processed_fastmri_data/train/fastmri_train_4x_batch_0032.pt\n",
      "Processing file: /workspace/fastmri-reconstruction/processed_fastmri_data/train/fastmri_train_4x_batch_0033.pt\n",
      "Processing file: /workspace/fastmri-reconstruction/processed_fastmri_data/train/fastmri_train_4x_batch_0034.pt\n",
      "Processing file: /workspace/fastmri-reconstruction/processed_fastmri_data/train/fastmri_train_4x_batch_0035.pt\n",
      "Processing file: /workspace/fastmri-reconstruction/processed_fastmri_data/train/fastmri_train_4x_batch_0036.pt\n",
      "Processing file: /workspace/fastmri-reconstruction/processed_fastmri_data/train/fastmri_train_4x_batch_0037.pt\n",
      "Processing file: /workspace/fastmri-reconstruction/processed_fastmri_data/train/fastmri_train_4x_batch_0038.pt\n",
      "Processing file: /workspace/fastmri-reconstruction/processed_fastmri_data/train/fastmri_train_4x_batch_0039.pt\n",
      "Processing file: /workspace/fastmri-reconstruction/processed_fastmri_data/train/fastmri_train_4x_batch_0040.pt\n",
      "Processing file: /workspace/fastmri-reconstruction/processed_fastmri_data/train/fastmri_train_4x_batch_0041.pt\n",
      "Processing file: /workspace/fastmri-reconstruction/processed_fastmri_data/train/fastmri_train_4x_batch_0042.pt\n",
      "Processing file: /workspace/fastmri-reconstruction/processed_fastmri_data/train/fastmri_train_4x_batch_0043.pt\n",
      "Processing file: /workspace/fastmri-reconstruction/processed_fastmri_data/train/fastmri_train_4x_batch_0044.pt\n",
      "Processing file: /workspace/fastmri-reconstruction/processed_fastmri_data/train/fastmri_train_4x_batch_0045.pt\n",
      "Processing file: /workspace/fastmri-reconstruction/processed_fastmri_data/train/fastmri_train_4x_batch_0046.pt\n",
      "Processing file: /workspace/fastmri-reconstruction/processed_fastmri_data/train/fastmri_train_4x_batch_0047.pt\n",
      "Processing file: /workspace/fastmri-reconstruction/processed_fastmri_data/train/fastmri_train_4x_batch_0048.pt\n",
      "Processing file: /workspace/fastmri-reconstruction/processed_fastmri_data/train/fastmri_train_4x_batch_0049.pt\n",
      "Processing file: /workspace/fastmri-reconstruction/processed_fastmri_data/train/fastmri_train_4x_batch_0050.pt\n",
      "Processing file: /workspace/fastmri-reconstruction/processed_fastmri_data/train/fastmri_train_4x_batch_0051.pt\n",
      "Processing file: /workspace/fastmri-reconstruction/processed_fastmri_data/train/fastmri_train_4x_batch_0052.pt\n",
      "Processing file: /workspace/fastmri-reconstruction/processed_fastmri_data/train/fastmri_train_4x_batch_0053.pt\n",
      "Processing file: /workspace/fastmri-reconstruction/processed_fastmri_data/train/fastmri_train_4x_batch_0054.pt\n",
      "Processing file: /workspace/fastmri-reconstruction/processed_fastmri_data/train/fastmri_train_4x_batch_0055.pt\n",
      "Processing file: /workspace/fastmri-reconstruction/processed_fastmri_data/train/fastmri_train_4x_batch_0056.pt\n",
      "Processing file: /workspace/fastmri-reconstruction/processed_fastmri_data/train/fastmri_train_4x_batch_0057.pt\n",
      "Processing file: /workspace/fastmri-reconstruction/processed_fastmri_data/train/fastmri_train_4x_batch_0058.pt\n",
      "Processing file: /workspace/fastmri-reconstruction/processed_fastmri_data/train/fastmri_train_4x_batch_0059.pt\n",
      "Processing file: /workspace/fastmri-reconstruction/processed_fastmri_data/train/fastmri_train_4x_batch_0060.pt\n",
      "Successfully loaded a total of 973 examples.\n",
      "Filtering out metadata file: /workspace/fastmri-reconstruction/processed_fastmri_data/val/fastmri_val_4x_metadata.pt\n",
      "Found 13 .pt files to process in /workspace/fastmri-reconstruction/processed_fastmri_data/val after filtering.\n",
      "Processing file: /workspace/fastmri-reconstruction/processed_fastmri_data/val/fastmri_val_4x_batch_0000.pt\n",
      "Processing file: /workspace/fastmri-reconstruction/processed_fastmri_data/val/fastmri_val_4x_batch_0001.pt\n",
      "Processing file: /workspace/fastmri-reconstruction/processed_fastmri_data/val/fastmri_val_4x_batch_0002.pt\n",
      "Processing file: /workspace/fastmri-reconstruction/processed_fastmri_data/val/fastmri_val_4x_batch_0003.pt\n",
      "Processing file: /workspace/fastmri-reconstruction/processed_fastmri_data/val/fastmri_val_4x_batch_0004.pt\n",
      "Processing file: /workspace/fastmri-reconstruction/processed_fastmri_data/val/fastmri_val_4x_batch_0005.pt\n",
      "Processing file: /workspace/fastmri-reconstruction/processed_fastmri_data/val/fastmri_val_4x_batch_0006.pt\n",
      "Processing file: /workspace/fastmri-reconstruction/processed_fastmri_data/val/fastmri_val_4x_batch_0007.pt\n",
      "Processing file: /workspace/fastmri-reconstruction/processed_fastmri_data/val/fastmri_val_4x_batch_0008.pt\n",
      "Processing file: /workspace/fastmri-reconstruction/processed_fastmri_data/val/fastmri_val_4x_batch_0009.pt\n",
      "Processing file: /workspace/fastmri-reconstruction/processed_fastmri_data/val/fastmri_val_4x_batch_0010.pt\n",
      "Processing file: /workspace/fastmri-reconstruction/processed_fastmri_data/val/fastmri_val_4x_batch_0011.pt\n",
      "Processing file: /workspace/fastmri-reconstruction/processed_fastmri_data/val/fastmri_val_4x_batch_0012.pt\n",
      "Successfully loaded a total of 199 examples.\n",
      "Loaded 973 training samples and 199 validation samples\n",
      "Model parameters: 7756577\n",
      "Starting training...\n",
      "\n",
      "Epoch 1/50\n"
     ]
    },
    {
     "data": {
      "application/vnd.jupyter.widget-view+json": {
       "model_id": "7507e1c845bd4e6394d1e50328b19344",
       "version_major": 2,
       "version_minor": 0
      },
      "text/plain": [
       "Training:   0%|          | 0/61 [00:00<?, ?it/s]"
      ]
     },
     "metadata": {},
     "output_type": "display_data"
    },
    {
     "data": {
      "application/vnd.jupyter.widget-view+json": {
       "model_id": "652c44956b7a4a7e83c2c1c9cdbd29c7",
       "version_major": 2,
       "version_minor": 0
      },
      "text/plain": [
       "Validation:   0%|          | 0/13 [00:00<?, ?it/s]"
      ]
     },
     "metadata": {},
     "output_type": "display_data"
    },
    {
     "name": "stdout",
     "output_type": "stream",
     "text": [
      "Train Loss: 0.224974 | Val Loss: 0.102148 | PSNR: 22.94 dB | SSIM: 0.6178\n",
      "Saved best model at epoch 1\n",
      "\n",
      "Epoch 2/50\n"
     ]
    },
    {
     "data": {
      "application/vnd.jupyter.widget-view+json": {
       "model_id": "cc587568979f4622baaef37295e6c014",
       "version_major": 2,
       "version_minor": 0
      },
      "text/plain": [
       "Training:   0%|          | 0/61 [00:00<?, ?it/s]"
      ]
     },
     "metadata": {},
     "output_type": "display_data"
    },
    {
     "data": {
      "application/vnd.jupyter.widget-view+json": {
       "model_id": "2b9ab4a02e5c443189c78ef9bfc6b32d",
       "version_major": 2,
       "version_minor": 0
      },
      "text/plain": [
       "Validation:   0%|          | 0/13 [00:00<?, ?it/s]"
      ]
     },
     "metadata": {},
     "output_type": "display_data"
    },
    {
     "name": "stdout",
     "output_type": "stream",
     "text": [
      "Train Loss: 0.082079 | Val Loss: 0.074428 | PSNR: 25.56 dB | SSIM: 0.6475\n",
      "Saved best model at epoch 2\n",
      "\n",
      "Epoch 3/50\n"
     ]
    },
    {
     "data": {
      "application/vnd.jupyter.widget-view+json": {
       "model_id": "885d1083b34c4ae8a38c4282fe43a8f6",
       "version_major": 2,
       "version_minor": 0
      },
      "text/plain": [
       "Training:   0%|          | 0/61 [00:00<?, ?it/s]"
      ]
     },
     "metadata": {},
     "output_type": "display_data"
    },
    {
     "data": {
      "application/vnd.jupyter.widget-view+json": {
       "model_id": "f8ca898abad04525a455c042f7444a62",
       "version_major": 2,
       "version_minor": 0
      },
      "text/plain": [
       "Validation:   0%|          | 0/13 [00:00<?, ?it/s]"
      ]
     },
     "metadata": {},
     "output_type": "display_data"
    },
    {
     "name": "stdout",
     "output_type": "stream",
     "text": [
      "Train Loss: 0.070839 | Val Loss: 0.068385 | PSNR: 26.24 dB | SSIM: 0.6604\n",
      "Saved best model at epoch 3\n",
      "\n",
      "Epoch 4/50\n"
     ]
    },
    {
     "data": {
      "application/vnd.jupyter.widget-view+json": {
       "model_id": "cce19cf19fe043ee802088389d6896a4",
       "version_major": 2,
       "version_minor": 0
      },
      "text/plain": [
       "Training:   0%|          | 0/61 [00:00<?, ?it/s]"
      ]
     },
     "metadata": {},
     "output_type": "display_data"
    },
    {
     "data": {
      "application/vnd.jupyter.widget-view+json": {
       "model_id": "4df1e971203b4d6da8a72f38518cf586",
       "version_major": 2,
       "version_minor": 0
      },
      "text/plain": [
       "Validation:   0%|          | 0/13 [00:00<?, ?it/s]"
      ]
     },
     "metadata": {},
     "output_type": "display_data"
    },
    {
     "name": "stdout",
     "output_type": "stream",
     "text": [
      "Train Loss: 0.066534 | Val Loss: 0.065712 | PSNR: 26.53 dB | SSIM: 0.6944\n",
      "Saved best model at epoch 4\n",
      "\n",
      "Epoch 5/50\n"
     ]
    },
    {
     "data": {
      "application/vnd.jupyter.widget-view+json": {
       "model_id": "ecab32e0af494bb7915b2a27e9b2b3ae",
       "version_major": 2,
       "version_minor": 0
      },
      "text/plain": [
       "Training:   0%|          | 0/61 [00:00<?, ?it/s]"
      ]
     },
     "metadata": {},
     "output_type": "display_data"
    },
    {
     "data": {
      "application/vnd.jupyter.widget-view+json": {
       "model_id": "3fee8be4c3b24d10848e1be8aaf9919b",
       "version_major": 2,
       "version_minor": 0
      },
      "text/plain": [
       "Validation:   0%|          | 0/13 [00:00<?, ?it/s]"
      ]
     },
     "metadata": {},
     "output_type": "display_data"
    },
    {
     "name": "stdout",
     "output_type": "stream",
     "text": [
      "Train Loss: 0.064120 | Val Loss: 0.064310 | PSNR: 26.68 dB | SSIM: 0.6226\n",
      "Saved best model at epoch 5\n",
      "\n",
      "Epoch 6/50\n"
     ]
    },
    {
     "data": {
      "application/vnd.jupyter.widget-view+json": {
       "model_id": "f10a1a31e00740eda83b00fe866fa637",
       "version_major": 2,
       "version_minor": 0
      },
      "text/plain": [
       "Training:   0%|          | 0/61 [00:00<?, ?it/s]"
      ]
     },
     "metadata": {},
     "output_type": "display_data"
    },
    {
     "data": {
      "application/vnd.jupyter.widget-view+json": {
       "model_id": "116c582a6dff4c77a96ec33b880713bc",
       "version_major": 2,
       "version_minor": 0
      },
      "text/plain": [
       "Validation:   0%|          | 0/13 [00:00<?, ?it/s]"
      ]
     },
     "metadata": {},
     "output_type": "display_data"
    },
    {
     "name": "stdout",
     "output_type": "stream",
     "text": [
      "Train Loss: 0.061466 | Val Loss: 0.061933 | PSNR: 26.96 dB | SSIM: 0.6416\n",
      "Saved best model at epoch 6\n",
      "\n",
      "Epoch 7/50\n"
     ]
    },
    {
     "data": {
      "application/vnd.jupyter.widget-view+json": {
       "model_id": "91e990022d3047f29646eb625592703f",
       "version_major": 2,
       "version_minor": 0
      },
      "text/plain": [
       "Training:   0%|          | 0/61 [00:00<?, ?it/s]"
      ]
     },
     "metadata": {},
     "output_type": "display_data"
    },
    {
     "data": {
      "application/vnd.jupyter.widget-view+json": {
       "model_id": "3420dfa25a444f8a859857eb02647c60",
       "version_major": 2,
       "version_minor": 0
      },
      "text/plain": [
       "Validation:   0%|          | 0/13 [00:00<?, ?it/s]"
      ]
     },
     "metadata": {},
     "output_type": "display_data"
    },
    {
     "name": "stdout",
     "output_type": "stream",
     "text": [
      "Train Loss: 0.060840 | Val Loss: 0.062556 | PSNR: 26.79 dB | SSIM: 0.6104\n",
      "\n",
      "Epoch 8/50\n"
     ]
    },
    {
     "data": {
      "application/vnd.jupyter.widget-view+json": {
       "model_id": "9715b68ebab441f8aa1ee379c4549159",
       "version_major": 2,
       "version_minor": 0
      },
      "text/plain": [
       "Training:   0%|          | 0/61 [00:00<?, ?it/s]"
      ]
     },
     "metadata": {},
     "output_type": "display_data"
    },
    {
     "data": {
      "application/vnd.jupyter.widget-view+json": {
       "model_id": "87f39974da5745bda3209a1661de662f",
       "version_major": 2,
       "version_minor": 0
      },
      "text/plain": [
       "Validation:   0%|          | 0/13 [00:00<?, ?it/s]"
      ]
     },
     "metadata": {},
     "output_type": "display_data"
    },
    {
     "name": "stdout",
     "output_type": "stream",
     "text": [
      "Train Loss: 0.058583 | Val Loss: 0.059169 | PSNR: 27.36 dB | SSIM: 0.6205\n",
      "Saved best model at epoch 8\n",
      "\n",
      "Epoch 9/50\n"
     ]
    },
    {
     "data": {
      "application/vnd.jupyter.widget-view+json": {
       "model_id": "e032374f5f524daabe086a838775fa13",
       "version_major": 2,
       "version_minor": 0
      },
      "text/plain": [
       "Training:   0%|          | 0/61 [00:00<?, ?it/s]"
      ]
     },
     "metadata": {},
     "output_type": "display_data"
    },
    {
     "data": {
      "application/vnd.jupyter.widget-view+json": {
       "model_id": "d5901203ac664c5d972e42901d6fe262",
       "version_major": 2,
       "version_minor": 0
      },
      "text/plain": [
       "Validation:   0%|          | 0/13 [00:00<?, ?it/s]"
      ]
     },
     "metadata": {},
     "output_type": "display_data"
    },
    {
     "name": "stdout",
     "output_type": "stream",
     "text": [
      "Train Loss: 0.057862 | Val Loss: 0.059192 | PSNR: 27.28 dB | SSIM: 0.6574\n",
      "\n",
      "Epoch 10/50\n"
     ]
    },
    {
     "data": {
      "application/vnd.jupyter.widget-view+json": {
       "model_id": "3344e04e911a4e1b864be4cfc31e2683",
       "version_major": 2,
       "version_minor": 0
      },
      "text/plain": [
       "Training:   0%|          | 0/61 [00:00<?, ?it/s]"
      ]
     },
     "metadata": {},
     "output_type": "display_data"
    },
    {
     "data": {
      "application/vnd.jupyter.widget-view+json": {
       "model_id": "c4ece5241a614bbaa12c6bfd1df24d38",
       "version_major": 2,
       "version_minor": 0
      },
      "text/plain": [
       "Validation:   0%|          | 0/13 [00:00<?, ?it/s]"
      ]
     },
     "metadata": {},
     "output_type": "display_data"
    },
    {
     "name": "stdout",
     "output_type": "stream",
     "text": [
      "Train Loss: 0.057348 | Val Loss: 0.058831 | PSNR: 27.55 dB | SSIM: 0.6384\n",
      "Saved best model at epoch 10\n",
      "\n",
      "Epoch 11/50\n"
     ]
    },
    {
     "data": {
      "application/vnd.jupyter.widget-view+json": {
       "model_id": "53412940952b4762bfe4804ff62424ab",
       "version_major": 2,
       "version_minor": 0
      },
      "text/plain": [
       "Training:   0%|          | 0/61 [00:00<?, ?it/s]"
      ]
     },
     "metadata": {},
     "output_type": "display_data"
    },
    {
     "data": {
      "application/vnd.jupyter.widget-view+json": {
       "model_id": "5b9d76294c5e4c7ab7dbd1ead062d9e5",
       "version_major": 2,
       "version_minor": 0
      },
      "text/plain": [
       "Validation:   0%|          | 0/13 [00:00<?, ?it/s]"
      ]
     },
     "metadata": {},
     "output_type": "display_data"
    },
    {
     "name": "stdout",
     "output_type": "stream",
     "text": [
      "Train Loss: 0.055812 | Val Loss: 0.056779 | PSNR: 27.68 dB | SSIM: 0.6446\n",
      "Saved best model at epoch 11\n",
      "\n",
      "Epoch 12/50\n"
     ]
    },
    {
     "data": {
      "application/vnd.jupyter.widget-view+json": {
       "model_id": "1ed1495ec6bf4782a69a819ee721c2ea",
       "version_major": 2,
       "version_minor": 0
      },
      "text/plain": [
       "Training:   0%|          | 0/61 [00:00<?, ?it/s]"
      ]
     },
     "metadata": {},
     "output_type": "display_data"
    },
    {
     "data": {
      "application/vnd.jupyter.widget-view+json": {
       "model_id": "67093e7b3f634941ab829119c3fcc2c5",
       "version_major": 2,
       "version_minor": 0
      },
      "text/plain": [
       "Validation:   0%|          | 0/13 [00:00<?, ?it/s]"
      ]
     },
     "metadata": {},
     "output_type": "display_data"
    },
    {
     "name": "stdout",
     "output_type": "stream",
     "text": [
      "Train Loss: 0.055217 | Val Loss: 0.057698 | PSNR: 27.60 dB | SSIM: 0.6658\n",
      "\n",
      "Epoch 13/50\n"
     ]
    },
    {
     "data": {
      "application/vnd.jupyter.widget-view+json": {
       "model_id": "ad7f5b226fa54184b4c0db04a10e4c03",
       "version_major": 2,
       "version_minor": 0
      },
      "text/plain": [
       "Training:   0%|          | 0/61 [00:00<?, ?it/s]"
      ]
     },
     "metadata": {},
     "output_type": "display_data"
    },
    {
     "data": {
      "application/vnd.jupyter.widget-view+json": {
       "model_id": "f4ee2e33b99b42b8a4b1df56bc906f90",
       "version_major": 2,
       "version_minor": 0
      },
      "text/plain": [
       "Validation:   0%|          | 0/13 [00:00<?, ?it/s]"
      ]
     },
     "metadata": {},
     "output_type": "display_data"
    },
    {
     "name": "stdout",
     "output_type": "stream",
     "text": [
      "Train Loss: 0.054788 | Val Loss: 0.056597 | PSNR: 27.81 dB | SSIM: 0.6620\n",
      "Saved best model at epoch 13\n",
      "\n",
      "Epoch 14/50\n"
     ]
    },
    {
     "data": {
      "application/vnd.jupyter.widget-view+json": {
       "model_id": "780b5a33e2ad4c12a3c6c52fc759cce4",
       "version_major": 2,
       "version_minor": 0
      },
      "text/plain": [
       "Training:   0%|          | 0/61 [00:00<?, ?it/s]"
      ]
     },
     "metadata": {},
     "output_type": "display_data"
    },
    {
     "data": {
      "application/vnd.jupyter.widget-view+json": {
       "model_id": "d577d8e28bd0445eadaa0bc5464581e4",
       "version_major": 2,
       "version_minor": 0
      },
      "text/plain": [
       "Validation:   0%|          | 0/13 [00:00<?, ?it/s]"
      ]
     },
     "metadata": {},
     "output_type": "display_data"
    },
    {
     "name": "stdout",
     "output_type": "stream",
     "text": [
      "Train Loss: 0.054277 | Val Loss: 0.055820 | PSNR: 27.79 dB | SSIM: 0.6641\n",
      "Saved best model at epoch 14\n",
      "\n",
      "Epoch 15/50\n"
     ]
    },
    {
     "data": {
      "application/vnd.jupyter.widget-view+json": {
       "model_id": "0144a84a31914598ab507e13de368222",
       "version_major": 2,
       "version_minor": 0
      },
      "text/plain": [
       "Training:   0%|          | 0/61 [00:00<?, ?it/s]"
      ]
     },
     "metadata": {},
     "output_type": "display_data"
    },
    {
     "data": {
      "application/vnd.jupyter.widget-view+json": {
       "model_id": "eac81d3cef8b47bfbd3026d760b69c65",
       "version_major": 2,
       "version_minor": 0
      },
      "text/plain": [
       "Validation:   0%|          | 0/13 [00:00<?, ?it/s]"
      ]
     },
     "metadata": {},
     "output_type": "display_data"
    },
    {
     "name": "stdout",
     "output_type": "stream",
     "text": [
      "Train Loss: 0.053984 | Val Loss: 0.055445 | PSNR: 27.84 dB | SSIM: 0.6443\n",
      "Saved best model at epoch 15\n",
      "\n",
      "Epoch 16/50\n"
     ]
    },
    {
     "data": {
      "application/vnd.jupyter.widget-view+json": {
       "model_id": "12caa970f37640ebbf530719d2627123",
       "version_major": 2,
       "version_minor": 0
      },
      "text/plain": [
       "Training:   0%|          | 0/61 [00:00<?, ?it/s]"
      ]
     },
     "metadata": {},
     "output_type": "display_data"
    },
    {
     "data": {
      "application/vnd.jupyter.widget-view+json": {
       "model_id": "664744d0623b4b66b0d95bd457e7aba7",
       "version_major": 2,
       "version_minor": 0
      },
      "text/plain": [
       "Validation:   0%|          | 0/13 [00:00<?, ?it/s]"
      ]
     },
     "metadata": {},
     "output_type": "display_data"
    },
    {
     "name": "stdout",
     "output_type": "stream",
     "text": [
      "Train Loss: 0.053282 | Val Loss: 0.055264 | PSNR: 27.88 dB | SSIM: 0.6592\n",
      "Saved best model at epoch 16\n",
      "\n",
      "Epoch 17/50\n"
     ]
    },
    {
     "data": {
      "application/vnd.jupyter.widget-view+json": {
       "model_id": "d8fe279b54f543aba0e5a9ce75a47d13",
       "version_major": 2,
       "version_minor": 0
      },
      "text/plain": [
       "Training:   0%|          | 0/61 [00:00<?, ?it/s]"
      ]
     },
     "metadata": {},
     "output_type": "display_data"
    }
   ],
   "source": [
    "if __name__ == \"__main__\":\n",
    "    # Training\n",
    "    print(\"Starting UNet baseline training for FastMRI...\")\n",
    "    model, train_losses, val_losses, val_psnrs, val_ssims = train_unet_model()\n",
    "    \n",
    "    # Evaluation\n",
    "    print(\"\\nEvaluating the best model...\")\n",
    "    val_dataset = ProcessedFastMRIDataset(\n",
    "        data_dir=\"./processed_fastmri_data\", \n",
    "        mode='val', \n",
    "        use_processed=True\n",
    "    )\n",
    "    val_loader = DataLoader(\n",
    "        val_dataset, \n",
    "        batch_size=16, \n",
    "        shuffle=False, \n",
    "        num_workers=4\n",
    "    )\n",
    "    results = evaluate_model(\"./unet_output/best_model.pth\", val_loader, device)\n",
    "    \n",
    "    print(\"\\nBaseline U-Net training and evaluation complete!\")\n"
   ]
  },
  {
   "cell_type": "code",
   "execution_count": null,
   "id": "d66c30ba-2662-4790-aa19-758058c27217",
   "metadata": {},
   "outputs": [],
   "source": []
  }
 ],
 "metadata": {
  "kernelspec": {
   "display_name": "Python 3 (ipykernel)",
   "language": "python",
   "name": "python3"
  },
  "language_info": {
   "codemirror_mode": {
    "name": "ipython",
    "version": 3
   },
   "file_extension": ".py",
   "mimetype": "text/x-python",
   "name": "python",
   "nbconvert_exporter": "python",
   "pygments_lexer": "ipython3",
   "version": "3.11.11"
  }
 },
 "nbformat": 4,
 "nbformat_minor": 5
}
